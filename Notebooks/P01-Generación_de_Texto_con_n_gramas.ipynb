{
  "nbformat": 4,
  "nbformat_minor": 0,
  "metadata": {
    "colab": {
      "provenance": [],
      "authorship_tag": "ABX9TyNTHdklXlc55mAN1Pr8f5eA",
      "include_colab_link": true
    },
    "kernelspec": {
      "name": "python3",
      "display_name": "Python 3"
    },
    "language_info": {
      "name": "python"
    }
  },
  "cells": [
    {
      "cell_type": "markdown",
      "metadata": {
        "id": "view-in-github",
        "colab_type": "text"
      },
      "source": [
        "<a href=\"https://colab.research.google.com/github/gmauricio-toledo/NLP-LCC/blob/main/Notebooks/P01-Generaci%C3%B3n_de_Texto_con_n_gramas.ipynb\" target=\"_parent\"><img src=\"https://colab.research.google.com/assets/colab-badge.svg\" alt=\"Open In Colab\"/></a>"
      ]
    },
    {
      "cell_type": "markdown",
      "source": [
        "# Español"
      ],
      "metadata": {
        "id": "qUmBIBwSdZ2I"
      }
    },
    {
      "cell_type": "markdown",
      "source": [
        "Leer el dataset de Kaggle\n",
        "\n",
        "**Puede requerir que hagan una [llave para la API de Kaggle](https://www.kaggle.com/docs/api#authentication)**, si nunca lo han hecho."
      ],
      "metadata": {
        "id": "VaUUlJZPWzRz"
      }
    },
    {
      "cell_type": "code",
      "source": [
        "import kagglehub\n",
        "\n",
        "# Download latest version\n",
        "path = kagglehub.dataset_download(\"josemamuiz/noticias-laraznpblico\")\n",
        "\n",
        "print(\"Path to dataset files:\", path)"
      ],
      "metadata": {
        "id": "TEG95x0vTLh0"
      },
      "execution_count": null,
      "outputs": []
    },
    {
      "cell_type": "code",
      "source": [
        "import pandas as pd\n",
        "\n",
        "path = \"/root/.cache/kagglehub/datasets/josemamuiz/noticias-laraznpblico/versions/1/data_larazon_publico_v2.csv\"\n",
        "df = pd.read_csv(path,index_col=0)\n",
        "df"
      ],
      "metadata": {
        "id": "uN3ZSbEoSpqk"
      },
      "execution_count": null,
      "outputs": []
    },
    {
      "cell_type": "markdown",
      "source": [
        "Quedarse con los textos de la columna `cuerpo`"
      ],
      "metadata": {
        "id": "eM8WWkCwXKFE"
      }
    },
    {
      "cell_type": "markdown",
      "source": [
        "# Ingles"
      ],
      "metadata": {
        "id": "59eFV0qUZ8pp"
      }
    },
    {
      "cell_type": "code",
      "source": [
        "!gdown 18kGdlhOiQNS61wUK7uPbdquKL3XJrgzf"
      ],
      "metadata": {
        "id": "Ey56DpwUY1k0"
      },
      "execution_count": null,
      "outputs": []
    },
    {
      "cell_type": "code",
      "source": [
        "import pandas as pd\n",
        "\n",
        "df = pd.read_csv('/content/IMDB.csv')\n",
        "df"
      ],
      "metadata": {
        "id": "Jr_JsDcxZyf4"
      },
      "execution_count": null,
      "outputs": []
    },
    {
      "cell_type": "markdown",
      "source": [
        "Tomar los textos de la columna `review`"
      ],
      "metadata": {
        "id": "9CBjJICbZ_Jv"
      }
    },
    {
      "cell_type": "code",
      "source": [],
      "metadata": {
        "id": "Zm60UQL6Z3AH"
      },
      "execution_count": null,
      "outputs": []
    }
  ]
}