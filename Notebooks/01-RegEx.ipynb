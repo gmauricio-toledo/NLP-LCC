{
  "nbformat": 4,
  "nbformat_minor": 0,
  "metadata": {
    "colab": {
      "provenance": [],
      "authorship_tag": "ABX9TyOy2sOfxUyHp6DMaNJ4Qc0N",
      "include_colab_link": true
    },
    "kernelspec": {
      "name": "python3",
      "display_name": "Python 3"
    },
    "language_info": {
      "name": "python"
    }
  },
  "cells": [
    {
      "cell_type": "markdown",
      "metadata": {
        "id": "view-in-github",
        "colab_type": "text"
      },
      "source": [
        "<a href=\"https://colab.research.google.com/github/gmauricio-toledo/NLP-LCC/blob/main/Notebooks/01-RegEx.ipynb\" target=\"_parent\"><img src=\"https://colab.research.google.com/assets/colab-badge.svg\" alt=\"Open In Colab\"/></a>"
      ]
    },
    {
      "cell_type": "markdown",
      "source": [
        "<h1>Preprocesamiento: Expresiones Regulares</h1>\n",
        "\n",
        "En esta notebook usaremos expresiones regulares para tareas de preprocesamiento de texto, concretamente limpieza."
      ],
      "metadata": {
        "id": "BR8mC_YaMsNK"
      }
    },
    {
      "cell_type": "markdown",
      "source": [
        "El módulo [re](https://docs.python.org/3/library/re.html) permite usar expresiones regulares para operaciones de *matching*.\n",
        "\n",
        "Las expresiones regulares se usando también en otros modulos, como hiperparámetros en diferentes tareas."
      ],
      "metadata": {
        "id": "ZJQWadbzOtjR"
      }
    },
    {
      "cell_type": "code",
      "source": [
        "import re"
      ],
      "metadata": {
        "id": "yOIGzsSgMTf9"
      },
      "execution_count": null,
      "outputs": []
    },
    {
      "cell_type": "markdown",
      "source": [
        "## Ejemplo 1"
      ],
      "metadata": {
        "id": "28gea-jtPGZy"
      }
    },
    {
      "cell_type": "markdown",
      "source": [
        "Consideremos el siguiente texto:\n",
        "\n",
        "> The Nebraska Cornhuskers men's tennis team represents the University of Nebraska–Lincoln in the Big Ten Conference. The program was established in 1928 and has made the NCAA Championship twice, most recently in 2011. Five Cornhuskers have won conference championships, and seventeen have been named all-conference selections. In 1989, Steven Jung was the NCAA Singles runner-up and was named NU's first All-American.[2] Jung is the only men's tennis player in the Nebraska Athletic Hall of Fame.[3] <br><br> Assistant Peter Kobelt was named interim head coach of the program following the departure of Sean Maymi in 2023.[4][5] In 2024, Nebraska Athletic Director Troy Dannen named Kobelt the 12th permanent head coach of the team.[6]"
      ],
      "metadata": {
        "id": "GuA_aTiLWdeU"
      }
    },
    {
      "cell_type": "code",
      "source": [
        "texto = '''\n",
        "The Nebraska Cornhuskers men's tennis team represents the University of Nebraska–Lincoln in the Big Ten Conference. The program was established in 1928 and has made the NCAA Championship twice, most recently in 2011. Five Cornhuskers have won conference championships, and seventeen have been named all-conference selections. In 1989, Steven Jung was the NCAA Singles runner-up and was named NU's first All-American.[2] Jung is the only men's tennis player in the Nebraska Athletic Hall of Fame.[3]\n",
        "\n",
        "Assistant Peter Kobelt was named interim head coach of the program following the departure of Sean Maymi in 2023.[4][5] In 2024, Nebraska Athletic Director Troy Dannen named Kobelt the 12th permanent head coach of the team.[6]\n",
        "'''"
      ],
      "metadata": {
        "id": "oTAUvAc3PM0z"
      },
      "execution_count": null,
      "outputs": []
    },
    {
      "cell_type": "markdown",
      "source": [
        "Realicemos las siguientes tareas:"
      ],
      "metadata": {
        "id": "kapmLg-6W6oL"
      }
    },
    {
      "cell_type": "markdown",
      "source": [
        "1. Quitar las citas [$n$] donde $n$ es un número.\n",
        "\n",
        "[re.sub](https://docs.python.org/3/library/re.html#re.sub)"
      ],
      "metadata": {
        "id": "e2QGN3T6ZKBd"
      }
    },
    {
      "cell_type": "code",
      "source": [
        "expresion_1 = r\"\\[\\d{1,2}\\]\"\n",
        "\n",
        "texto_limpio = re.sub(expresion_1, \"\", texto)\n",
        "print(texto_limpio)"
      ],
      "metadata": {
        "id": "wQ6cARoAZJnb"
      },
      "execution_count": null,
      "outputs": []
    },
    {
      "cell_type": "code",
      "source": [
        "texto_limpio"
      ],
      "metadata": {
        "id": "yLTweLM0Zp3u"
      },
      "execution_count": null,
      "outputs": []
    },
    {
      "cell_type": "markdown",
      "source": [
        "2. Eliminar los saltos de linea"
      ],
      "metadata": {
        "id": "vacQBdiLZdnd"
      }
    },
    {
      "cell_type": "code",
      "source": [
        "expresion_2 = r\"\\n\"\n",
        "\n",
        "texto_limpio = re.sub(expresion_2, \"\", texto_limpio)\n",
        "texto_limpio"
      ],
      "metadata": {
        "id": "ONC3369NZE0I"
      },
      "execution_count": null,
      "outputs": []
    },
    {
      "cell_type": "markdown",
      "source": [
        "3. Buscar (y guardar) los años.\n",
        "\n",
        "Observa que, en este caso, no se modifica la cadena de texto donde se busca."
      ],
      "metadata": {
        "id": "1uVHUTSWaau1"
      }
    },
    {
      "cell_type": "code",
      "source": [
        "expresion_3 = r\"\\d{4}\"\n",
        "\n",
        "years = re.findall(expresion_3, texto_limpio)\n",
        "\n",
        "print(years)\n",
        "\n",
        "print(texto_limpio)"
      ],
      "metadata": {
        "id": "JViuczm8af16"
      },
      "execution_count": null,
      "outputs": []
    },
    {
      "cell_type": "markdown",
      "source": [
        "4. Eliminar los años y todos los números."
      ],
      "metadata": {
        "id": "qK920fGgdxaH"
      }
    },
    {
      "cell_type": "code",
      "source": [
        "expresion_4 = r\"\\d{4}\"\n",
        "\n",
        "texto_limpio = re.sub(expresion_4, \"\", texto_limpio)\n",
        "\n",
        "print(texto_limpio)"
      ],
      "metadata": {
        "id": "3FMp4xIydxCJ"
      },
      "execution_count": null,
      "outputs": []
    },
    {
      "cell_type": "markdown",
      "source": [
        "## Ejemplo 2"
      ],
      "metadata": {
        "id": "EPHYogVZPJHU"
      }
    },
    {
      "cell_type": "markdown",
      "source": [
        "Ahora, lidiemos con textos más complejos. Usemos el corpus `20newsgroups`."
      ],
      "metadata": {
        "id": "saVloumlhFNN"
      }
    },
    {
      "cell_type": "code",
      "execution_count": null,
      "metadata": {
        "id": "IQ-wfRpgLWvT"
      },
      "outputs": [],
      "source": [
        "from sklearn.datasets import fetch_20newsgroups"
      ]
    },
    {
      "cell_type": "markdown",
      "source": [
        "Lo cargamos con esta instrucción"
      ],
      "metadata": {
        "id": "M5F_0OieiGp4"
      }
    },
    {
      "cell_type": "code",
      "source": [
        "data = fetch_20newsgroups()"
      ],
      "metadata": {
        "id": "xLYfUQuVLtPY"
      },
      "execution_count": null,
      "outputs": []
    },
    {
      "cell_type": "markdown",
      "source": [
        "Contemos cuántos documentos tenemos"
      ],
      "metadata": {
        "id": "vmm2dWa6jNBG"
      }
    },
    {
      "cell_type": "code",
      "source": [
        "len(data.data)"
      ],
      "metadata": {
        "id": "TLknAXirhDn0"
      },
      "execution_count": null,
      "outputs": []
    },
    {
      "cell_type": "markdown",
      "source": [
        "Exploremos uno:"
      ],
      "metadata": {
        "id": "Hzb9nbcYjQWi"
      }
    },
    {
      "cell_type": "code",
      "source": [
        "print(data.data[0])"
      ],
      "metadata": {
        "id": "O_iKhq3TkOtd"
      },
      "execution_count": null,
      "outputs": []
    },
    {
      "cell_type": "code",
      "source": [
        "data.data[0]"
      ],
      "metadata": {
        "id": "XGfqmpYGMG94"
      },
      "execution_count": null,
      "outputs": []
    },
    {
      "cell_type": "markdown",
      "source": [
        "Trabajemos con un documento aleatorio"
      ],
      "metadata": {
        "id": "CUYizfxRjZhR"
      }
    },
    {
      "cell_type": "code",
      "source": [
        "from random import randrange\n",
        "\n",
        "idx = randrange(len(data.data)-1)\n",
        "random_doc = data.data[idx]\n",
        "\n",
        "random_doc"
      ],
      "metadata": {
        "id": "jRcabB5qMbVj"
      },
      "execution_count": null,
      "outputs": []
    },
    {
      "cell_type": "markdown",
      "source": [
        "⭕ Usando expresiones regulares, realizar las siguientes tareas:\n",
        "\n",
        "1. Quitar los saltos de línea\n",
        "2. Quitar números\n",
        "3. Quitar comillas dobles\n",
        "4. Almacenar en una lista la(s) direccion(es) de correo electrónico presentes.\n",
        "5. Quitar las direcciones de correo electrónico.\n",
        "6. Imprimir el texto *limpio* e imprimir la lista obtenida en (4).\n",
        "7. ¿Qué tan *limpio* consideras que quedó el texto después de los pasos anteriores? ¿qué pasos adicionales considerarías?"
      ],
      "metadata": {
        "id": "NfK8j6dQkXw5"
      }
    },
    {
      "cell_type": "markdown",
      "source": [
        "# Práctica\n"
      ],
      "metadata": {
        "id": "yhVqENsyOC1S"
      }
    },
    {
      "cell_type": "markdown",
      "source": [
        "## Reglas para la formación correcta de direcciones de correo electrónico\n",
        "\n",
        "`nombre_usuario`@`dominio`.`extension`\n",
        "\n",
        "* El nombre de usuario debe empezar con letra\n",
        "* Puede tener después letras, dígitos, \".\", \"_\", \"-\"\n",
        "* El nombre de usuario debe terminar con letra o dígito\n",
        "* La longitud máxima del nombre de usuario debe ser de 16, la mínima de 3\n",
        "* Debe contener un \"@\" después del nombre de usuario\n",
        "* El dominio debe comenzar con letra o dígito\n",
        "* Puede contener letras o dígitos, no puede contener símbolos\n",
        "* El dominio debe terminar con letra\n",
        "* La extensión del dominio es mínimo 3, máximo 16.\n",
        "* El dominio y la extensión deben estar separados por un punto\n",
        "* La extensión de la extensión debe ser mínimo 2, máximo 3\n",
        "* La extensión debe contener sólo letras\n",
        "\n",
        "Todas las letras pueden ser mayusculas o minúsculas."
      ],
      "metadata": {
        "id": "_wbBG_4ERUfb"
      }
    },
    {
      "cell_type": "markdown",
      "source": [
        "Bajamos el [archivo de texto](https://github.com/gmauricio-toledo/NLP-LCC/blob/main/Archivos/correos.txt):"
      ],
      "metadata": {
        "id": "9Nd3fnxYgZlO"
      }
    },
    {
      "cell_type": "code",
      "source": [
        "import requests\n",
        "\n",
        "# link del archivo de texto:\n",
        "url = \"https://raw.githubusercontent.com/gmauricio-toledo/NLP-LCC/main/Archivos/correos.txt\"\n",
        "\n",
        "try:\n",
        "    response = requests.get(url)\n",
        "    response.raise_for_status()\n",
        "    texto = response.text\n",
        "    print(texto)\n",
        "\n",
        "except requests.exceptions.RequestException as e:\n",
        "    print(f\"Error downloading file: {e}\")"
      ],
      "metadata": {
        "id": "ZwXLoqsbVD-w"
      },
      "execution_count": null,
      "outputs": []
    },
    {
      "cell_type": "markdown",
      "source": [
        "⭕ Escribe una expresión regular y, usando re.findall, encuentra todas las direcciones de correo electrónico validas en el texto `texto`.\n",
        "\n",
        "Cuenta cuántas direcciones validas encontraste"
      ],
      "metadata": {
        "id": "wOfe-az9evXX"
      }
    },
    {
      "cell_type": "code",
      "source": [],
      "metadata": {
        "id": "FfFNOoYvePGt"
      },
      "execution_count": null,
      "outputs": []
    }
  ]
}