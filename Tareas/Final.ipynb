{
  "nbformat": 4,
  "nbformat_minor": 0,
  "metadata": {
    "colab": {
      "provenance": [],
      "authorship_tag": "ABX9TyMFPohMKLOsEteNJL2YnyYH",
      "include_colab_link": true
    },
    "kernelspec": {
      "name": "python3",
      "display_name": "Python 3"
    },
    "language_info": {
      "name": "python"
    }
  },
  "cells": [
    {
      "cell_type": "markdown",
      "metadata": {
        "id": "view-in-github",
        "colab_type": "text"
      },
      "source": [
        "<a href=\"https://colab.research.google.com/github/gmauricio-toledo/NLP-LCC/blob/main/Tareas/Final.ipynb\" target=\"_parent\"><img src=\"https://colab.research.google.com/assets/colab-badge.svg\" alt=\"Open In Colab\"/></a>"
      ]
    },
    {
      "cell_type": "markdown",
      "source": [
        "# 1. Clasificación - Análisis de Sentimientos"
      ],
      "metadata": {
        "id": "C1cWqLzk4-0d"
      }
    },
    {
      "cell_type": "code",
      "execution_count": null,
      "metadata": {
        "id": "9QGD6AKK1uR_"
      },
      "outputs": [],
      "source": [
        "!gdown 1WbiC-3Yrlwdkys7NZZRv2fuYeFtyA155"
      ]
    },
    {
      "cell_type": "code",
      "source": [
        "import pandas as pd\n",
        "\n",
        "df = pd.read_csv(\"/content/train.txt\",sep=';',header=None)"
      ],
      "metadata": {
        "id": "WQZ5LgL91xlh"
      },
      "execution_count": null,
      "outputs": []
    },
    {
      "cell_type": "code",
      "source": [],
      "metadata": {
        "id": "gX9O8d-h5y15"
      },
      "execution_count": null,
      "outputs": []
    },
    {
      "cell_type": "markdown",
      "source": [
        "Evalua la tarea con la métrica F1-score en el conjunto de evaluación `val.txt`"
      ],
      "metadata": {
        "id": "6RtQvOUm5PSd"
      }
    },
    {
      "cell_type": "code",
      "source": [
        "!gdown 17K3PS3-qUMmjyAnIMfb9faci2YwOP2uP"
      ],
      "metadata": {
        "id": "kAyeUxHY5cfF"
      },
      "execution_count": null,
      "outputs": []
    },
    {
      "cell_type": "code",
      "source": [],
      "metadata": {
        "id": "HxnagAYg5zbT"
      },
      "execution_count": null,
      "outputs": []
    },
    {
      "cell_type": "markdown",
      "source": [
        "# 2. Análisis Exploratorio"
      ],
      "metadata": {
        "id": "oUavDHoe4ces"
      }
    },
    {
      "cell_type": "markdown",
      "source": [
        "Abre el archivo `train.csv` con pandas y determina de qué tratan los documentos.\n",
        "\n",
        "¿Qué posibles tópicos ves en los documentos?"
      ],
      "metadata": {
        "id": "rg3NckQy4pAn"
      }
    },
    {
      "cell_type": "code",
      "source": [
        "!gdown 1DkGzoakqcx6pddWzW4IXt6xeCCu5C4L3"
      ],
      "metadata": {
        "id": "mIZ86bgM3hZj"
      },
      "execution_count": null,
      "outputs": []
    },
    {
      "cell_type": "code",
      "source": [],
      "metadata": {
        "id": "vBi4ct0z4kH_"
      },
      "execution_count": null,
      "outputs": []
    }
  ]
}