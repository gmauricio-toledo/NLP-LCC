{
  "nbformat": 4,
  "nbformat_minor": 0,
  "metadata": {
    "colab": {
      "provenance": [],
      "mount_file_id": "1JjkDGlf27AZIaHuNkImHWGRNSFLdkYRV",
      "authorship_tag": "ABX9TyP/Zub/ICSbeMpLRqQWAvkh",
      "include_colab_link": true
    },
    "kernelspec": {
      "name": "python3",
      "display_name": "Python 3"
    },
    "language_info": {
      "name": "python"
    }
  },
  "cells": [
    {
      "cell_type": "markdown",
      "metadata": {
        "id": "view-in-github",
        "colab_type": "text"
      },
      "source": [
        "<a href=\"https://colab.research.google.com/github/gmauricio-toledo/NLP-LCC/blob/main/Tareas/TE-02%20Documentos%20Falsos.ipynb\" target=\"_parent\"><img src=\"https://colab.research.google.com/assets/colab-badge.svg\" alt=\"Open In Colab\"/></a>"
      ]
    },
    {
      "cell_type": "markdown",
      "source": [
        "<h1>Tarea Especial 2</h1>\n",
        "\n",
        "<h3>Detectar documentos falsos</h3>\n",
        "\n",
        "**Instrucciones para la Actividad: Detección de Documentos \"Falsos\"**\n",
        "\n",
        "**Objetivo:**  \n",
        "Identificar documentos \"falsos\" dentro de un conjunto de textos proporcionados. Algunos de estos documentos son documentos *reales*, mientras que otros tienen características que los diferencian de un documento escrito en un lenguaje natural típico.\n",
        "\n",
        "**Instrucciones:**  \n",
        "1. Analiza los documentos proporcionados y determina cuáles podrían ser \"falsos\" basándote en propiedades estadísticas del lenguaje o cualquier otro método que consideres adecuado.  \n",
        "2. No hay etiquetas en los documentos, por lo que deberás confiar en tu intuición y conocimiento sobre cómo se estructura el lenguaje natural.  \n",
        "3. Describe brevemente tu enfoque y las razones por las cuales clasificaste ciertos documentos como \"falsos\". Además, reporta cuales son los documentos \"falsos\", especificando los índices del dataframe que corresponden a ellos.\n",
        "\n",
        "**No hay una única forma correcta de resolver esta actividad**. Explora las ideas que consideres adecuadas.  \n",
        "\n",
        "**Inspiración:**  \n",
        "Esta actividad está inspirada en el manuscrito Voynich, un texto antiguo que, aunque parece seguir patrones estadísticos similares a los de un lenguaje natural, aún no ha sido descifrado.\n",
        "\n",
        "![Manuscrito](https://images.squarespace-cdn.com/content/v1/59cd4b8a2278e7d5bd5f6164/1723821923028-A5MKO8OQLQ9EE0WO6AG4/f114v.jpg?format=500w)"
      ],
      "metadata": {
        "id": "UDGe2pzykk54"
      }
    },
    {
      "cell_type": "code",
      "execution_count": null,
      "metadata": {
        "id": "PwfQFYy0kN-h"
      },
      "outputs": [],
      "source": [
        "!gdown 1HMWmuAkIJeKZY6FACSQU7LFDKxbDsVjR"
      ]
    },
    {
      "cell_type": "code",
      "source": [
        "import pandas as pd\n",
        "\n",
        "df = pd.read_csv('/content/fake-docs.csv',index_col=0)\n",
        "df"
      ],
      "metadata": {
        "id": "ukhIcT64kRjX"
      },
      "execution_count": null,
      "outputs": []
    }
  ]
}