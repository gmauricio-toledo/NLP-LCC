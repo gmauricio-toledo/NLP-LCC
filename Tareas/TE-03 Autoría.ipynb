{
  "nbformat": 4,
  "nbformat_minor": 0,
  "metadata": {
    "colab": {
      "provenance": [],
      "authorship_tag": "ABX9TyOuUbsWG7niUvxAmV/OgGhZ",
      "include_colab_link": true
    },
    "kernelspec": {
      "name": "python3",
      "display_name": "Python 3"
    },
    "language_info": {
      "name": "python"
    }
  },
  "cells": [
    {
      "cell_type": "markdown",
      "metadata": {
        "id": "view-in-github",
        "colab_type": "text"
      },
      "source": [
        "<a href=\"https://colab.research.google.com/github/gmauricio-toledo/NLP-LCC/blob/main/Tareas/TE-03%20Autor%C3%ADa.ipynb\" target=\"_parent\"><img src=\"https://colab.research.google.com/assets/colab-badge.svg\" alt=\"Open In Colab\"/></a>"
      ]
    },
    {
      "cell_type": "markdown",
      "source": [
        "<h1>Identificación de autoría</h1>\n",
        "\n",
        "Esta actividad es para:\n",
        "\n",
        "* FLORES ALVAREZ CHRISTIAN ALEXIS\n",
        "* GARCIA RUIZ JUAN DANIEL\n",
        "* GONZALEZ ARGUELLES PABLO ANDRES\n",
        "* HERNANDEZ GUTIERREZ LUIS HIRAM\n",
        "* MORALES NUÑEZ JOSE ANGEL\n",
        "* NAVA BANDA JUAN ADAN\n",
        "* RAMIREZ RAMIREZ JEHU JONATHAN"
      ],
      "metadata": {
        "id": "b7Zi6xZoEgK8"
      }
    },
    {
      "cell_type": "markdown",
      "source": [
        "# Dataset"
      ],
      "metadata": {
        "id": "_h6fem4VEk6W"
      }
    },
    {
      "cell_type": "code",
      "source": [],
      "metadata": {
        "id": "_-550LALEmtG"
      },
      "execution_count": null,
      "outputs": []
    },
    {
      "cell_type": "markdown",
      "source": [
        "# Instrucciones\n",
        "\n",
        "1. **Longitud promedio de palabras:** Calcula el número promedio de caracteres por palabra en el texto.\n",
        "2. **Proporción de palabras largas:** Determina el porcentaje de palabras con más de 6 caracteres.\n",
        "3. **Diversidad léxica:** Calcula la razón entre el número de palabras únicas y el total de palabras en el texto.\n",
        "4. **Uso de conectores lógicos:** Cuenta la frecuencia de palabras como \"sin embargo\", \"además\", \"por lo tanto\" y \"entonces\".\n",
        "5. **Palabras funcionales:** Mide la frecuencia de artículos (\"el\", \"la\"), preposiciones (\"en\", \"de\") y pronombres (\"yo\", \"tú\").\n",
        "6. **Palabras raras o poco frecuentes:** Identifica y cuenta las palabras que aparecen en el 10% inferior de la distribución de frecuencias en el corpus.\n",
        "7. **Longitud promedio de oraciones:** Calcula el número promedio de palabras por oración.\n",
        "8. **Varianza en la longitud de las oraciones:** Mide cuánto varían las longitudes de las oraciones en el texto.\n",
        "9. **Frecuencia de signos de puntuación:** Cuenta el uso de comas, puntos suspensivos, dos puntos, paréntesis, etc.\n",
        "10. **Uso de adjetivos y adverbios:** Calcula la frecuencia de palabras que describen o modifican otras palabras.\n",
        "11. **Uso de mayúsculas:** Determina la proporción de letras mayúsculas en el texto.\n",
        "12. **Uso de saltos de línea:** Cuenta la cantidad de saltos de línea o separaciones de párrafo en el texto."
      ],
      "metadata": {
        "id": "NQYCLMjFEag_"
      }
    },
    {
      "cell_type": "code",
      "execution_count": null,
      "metadata": {
        "id": "hy38D0IwEZ2t"
      },
      "outputs": [],
      "source": []
    }
  ]
}