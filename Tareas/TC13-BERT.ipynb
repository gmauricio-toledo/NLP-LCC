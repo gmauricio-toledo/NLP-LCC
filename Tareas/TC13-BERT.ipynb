{
  "nbformat": 4,
  "nbformat_minor": 0,
  "metadata": {
    "colab": {
      "provenance": [],
      "authorship_tag": "ABX9TyNs3zsAls2AWpY+4kEq9wpw",
      "include_colab_link": true
    },
    "kernelspec": {
      "name": "python3",
      "display_name": "Python 3"
    },
    "language_info": {
      "name": "python"
    }
  },
  "cells": [
    {
      "cell_type": "markdown",
      "metadata": {
        "id": "view-in-github",
        "colab_type": "text"
      },
      "source": [
        "<a href=\"https://colab.research.google.com/github/gmauricio-toledo/NLP-LCC/blob/main/Tareas/TC13-BERT.ipynb\" target=\"_parent\"><img src=\"https://colab.research.google.com/assets/colab-badge.svg\" alt=\"Open In Colab\"/></a>"
      ]
    },
    {
      "cell_type": "markdown",
      "source": [
        "<h1>BERT Finetuning</h1>\n",
        "<h3>Clasificación en español</h3>"
      ],
      "metadata": {
        "id": "5HFxp27dFK9q"
      }
    },
    {
      "cell_type": "markdown",
      "source": [
        "El siguiente dataset es una versión modificada del dataset de entrenamiento de RestMex 2021. Está en español y tiene dos etiquetas, son reviews de lugares turisticos, positivos y negativos. Haremos un finetuning de un módelo de BERT para clasificar este dataset."
      ],
      "metadata": {
        "id": "SH-8jAgr_fYo"
      }
    },
    {
      "cell_type": "code",
      "execution_count": null,
      "metadata": {
        "id": "1ZZpRXjS1kMw"
      },
      "outputs": [],
      "source": [
        "!gdown 1bxwTomQY0q6iEf6zVejAy_M_Ra4Pavuu"
      ]
    },
    {
      "cell_type": "markdown",
      "source": [
        "1. Divide el dataset en train/validation/test.\n",
        "2. Haz un preprocesamiento básico en cada uno de los 3 conjuntos.\n",
        "3. Carga un modelo tipo BERT para hacer la tarea de clasificación.\n",
        "4. Realiza el entrenamiento con el dataset train y usa el dataset de validación.\n",
        "5. Imprime las gráficas de entrenamiento.\n",
        "6. Mide el rendimiento en el conjunto de prueba usando la métrica accuracy."
      ],
      "metadata": {
        "id": "a6ey2Vdt_uqe"
      }
    },
    {
      "cell_type": "code",
      "source": [],
      "metadata": {
        "id": "VmdSD4wn_uWW"
      },
      "execution_count": null,
      "outputs": []
    },
    {
      "cell_type": "markdown",
      "source": [
        "Usaremos un modelo tipo BERT en español llamado BETO, es un modelo más ligero del orinal BETO ([modelo](mrm8488/distillbert-base-spanish-wwm-cased-finetuned-spa-squad2)). Podemos usar algunas alternativas:"
      ],
      "metadata": {
        "id": "vlM3slIK-krG"
      }
    },
    {
      "cell_type": "code",
      "source": [
        "from transformers import AutoTokenizer, TFAutoModelForSequenceClassification\n",
        "from tensorflow.keras.layers import Input, Dense\n",
        "from tensorflow.keras.models import Model\n",
        "import tensorflow as tf\n",
        "\n",
        "# Nombre del modelo en HuggingFace\n",
        "model_name = \"mrm8488/distillbert-base-spanish-wwm-cased-finetuned-spa-squad2\"\n",
        "# model_name = \"dccuchile/bert-base-spanish-wwm-cased\"\n",
        "\n",
        "# Tokenizador\n",
        "tokenizer = AutoTokenizer.from_pretrained(model_name)\n",
        "\n",
        "# Modelo base en TensorFlow (importante usar `from_pt=True` si el original es PyTorch)\n",
        "model = TFAutoModelForSequenceClassification.from_pretrained(\n",
        "    model_name,\n",
        "    from_pt=True,  # Convertir de PyTorch a TensorFlow (necesario para este modelo)\n",
        "    num_labels=,\n",
        "    ignore_mismatched_sizes=True  # Para reemplazar la cabeza de QA por clasificación\n",
        ")"
      ],
      "metadata": {
        "id": "BXWxycTo-M94"
      },
      "execution_count": null,
      "outputs": []
    },
    {
      "cell_type": "code",
      "source": [],
      "metadata": {
        "id": "d3QqlVli_GKj"
      },
      "execution_count": null,
      "outputs": []
    }
  ]
}