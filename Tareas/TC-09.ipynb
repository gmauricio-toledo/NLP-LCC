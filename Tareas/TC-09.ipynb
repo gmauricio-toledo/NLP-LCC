{
  "cells": [
    {
      "cell_type": "markdown",
      "metadata": {
        "id": "view-in-github",
        "colab_type": "text"
      },
      "source": [
        "<a href=\"https://colab.research.google.com/github/gmauricio-toledo/NLP-LCC/blob/main/Tareas/TC-09.ipynb\" target=\"_parent\"><img src=\"https://colab.research.google.com/assets/colab-badge.svg\" alt=\"Open In Colab\"/></a>"
      ]
    },
    {
      "cell_type": "markdown",
      "metadata": {
        "id": "Dfl1iJM3hBfz"
      },
      "source": [
        "<h1>Trabajo en clase 9</h1>\n",
        "\n",
        "<h2>Topic Modelling</h1>\n",
        "\n",
        "Haremos Topic Modelling usando varias técnicas:\n",
        "\n",
        "* Clustering en representaciones vectoriales de documentos BOW y TF-IDF.\n",
        "* LSA, implementación en [scikit-learn](https://scikit-learn.org/stable/modules/generated/sklearn.decomposition.TruncatedSVD.html).\n",
        "\n",
        "Posteriormente, usaras:\n",
        "* LDA. Implementación en [gensim](https://radimrehurek.com/gensim/models/ldamodel.html).\n",
        "\n",
        "Además, evaluaremos estas tareas usando métricas propias de la tarea.\n",
        "* [Coherence](https://radimrehurek.com/gensim/models/coherencemodel.html): [source](https://svn.aksw.org/papers/2015/WSDM_Topic_Evaluation/public.pdf)"
      ]
    },
    {
      "cell_type": "markdown",
      "source": [
        "Corpus:"
      ],
      "metadata": {
        "id": "DtuL0e2V8eoK"
      }
    },
    {
      "cell_type": "code",
      "source": [
        "!gdown 19Kp2DpVtPVe4kDN7yhNwlquiteUfqaFP"
      ],
      "metadata": {
        "id": "H_lM3iq2iBR9",
        "colab": {
          "base_uri": "https://localhost:8080/"
        },
        "outputId": "93272853-4343-4174-8448-d17a8693275d"
      },
      "execution_count": null,
      "outputs": [
        {
          "output_type": "stream",
          "name": "stdout",
          "text": [
            "Downloading...\n",
            "From: https://drive.google.com/uc?id=19Kp2DpVtPVe4kDN7yhNwlquiteUfqaFP\n",
            "To: /content/topic_modelling_dataset.csv\n",
            "\r  0% 0.00/9.11M [00:00<?, ?B/s]\r100% 9.11M/9.11M [00:00<00:00, 106MB/s]\n"
          ]
        }
      ]
    },
    {
      "cell_type": "code",
      "source": [
        "import pandas as pd\n",
        "\n",
        "tm_df = pd.read_csv('topic_modelling_dataset.csv')\n",
        "tm_df"
      ],
      "metadata": {
        "id": "IlTvMiBstVtv"
      },
      "execution_count": null,
      "outputs": []
    },
    {
      "cell_type": "markdown",
      "source": [
        "# Instrucciones\n",
        "\n",
        "1. Hacer un preprocesamiento básico que consideres necesario.\n",
        "2. Realizar las vectorizaciones BOW y TF-IDF\n",
        "3. Realiza clustering con K-Means, escogiendo el valor de $K$ dado por el valor de codo.\n",
        "4. Evalua ambas tareas de clustering con el score de Silueta.\n",
        "5. Con el mismo número de tópicos del punto 3, haz topic modelling con LSA (escoge BOW o TF-IDF).\n",
        "6. Evalua la tarea con la métrica Coherencia UMASS (usa la implementación de abajo)."
      ],
      "metadata": {
        "id": "M_Zyigdm4GMS"
      }
    },
    {
      "cell_type": "code",
      "source": [
        "#@title Implementación coherencia `u_mass`\n",
        "\n",
        "import math\n",
        "\n",
        "def get_umass_score(dt_matrix, i, j):\n",
        "    zo_matrix = (dt_matrix > 0).astype(int)\n",
        "    col_i, col_j = zo_matrix[:, i], zo_matrix[:, j]\n",
        "    col_ij = col_i + col_j\n",
        "    col_ij = (col_ij == 2).astype(int)\n",
        "    Di, Dij = col_i.sum(), col_ij.sum()\n",
        "    return math.log((Dij + 1) / Di)\n",
        "\n",
        "def get_topic_coherence(dt_matrix, topic, n_top_words):\n",
        "    indexed_topic = zip(topic, range(0, len(topic)))\n",
        "    topic_top = sorted(indexed_topic, key=lambda x: 1 - x[0])[0:n_top_words]\n",
        "    coherence = 0\n",
        "    for j_index in range(0, len(topic_top)):\n",
        "        for i_index in range(0, j_index - 1):\n",
        "            i = topic_top[i_index][1]\n",
        "            j = topic_top[j_index][1]\n",
        "            coherence += get_umass_score(dt_matrix, i, j)\n",
        "    return coherence\n",
        "\n",
        "def get_average_topic_coherence(dt_matrix, topics, n_top_words):\n",
        "    total_coherence = 0\n",
        "    for i in range(0, len(topics)):\n",
        "        total_coherence += get_topic_coherence(dt_matrix, topics[i], n_top_words)\n",
        "    return total_coherence / len(topics)"
      ],
      "metadata": {
        "id": "tAw1TScoterH",
        "cellView": "form"
      },
      "execution_count": null,
      "outputs": []
    },
    {
      "cell_type": "markdown",
      "source": [
        "Ejemplo de uso:\n",
        "\n",
        "        get_average_topic_coherence(dt_matrix, topics, n_top_words)\n",
        "\n",
        "* `dt_matrix`: Matriz de vectorizaciones TF-IDF o BOW.\n",
        "* `topics`: Matriz almacenada en el atributo `components_` de `TruncatedSVD`.\n",
        "* `n_top_words`: Cuántas palabras más frecuentes tomar en cada tópico para evaluar la coherencia.\n",
        "\n",
        "Recordar que es un número negativo, entre más alto es mejor."
      ],
      "metadata": {
        "id": "t0xjRLtP7mAs"
      }
    },
    {
      "cell_type": "code",
      "source": [],
      "metadata": {
        "id": "oyVrUmDx8UXa"
      },
      "execution_count": null,
      "outputs": []
    }
  ],
  "metadata": {
    "colab": {
      "provenance": [],
      "authorship_tag": "ABX9TyO5MZG4kSabj1vsTis9dVhn",
      "include_colab_link": true
    },
    "kernelspec": {
      "display_name": "Python 3",
      "name": "python3"
    },
    "language_info": {
      "name": "python"
    }
  },
  "nbformat": 4,
  "nbformat_minor": 0
}