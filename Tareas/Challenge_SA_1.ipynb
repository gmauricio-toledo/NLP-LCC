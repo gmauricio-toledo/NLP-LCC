{
  "nbformat": 4,
  "nbformat_minor": 0,
  "metadata": {
    "colab": {
      "provenance": [],
      "mount_file_id": "1XNCR22rGxSwdq0ePRf5BgBs3ehCsfob5",
      "authorship_tag": "ABX9TyOjsLyuOR9DKAG7pFdTKvtI",
      "include_colab_link": true
    },
    "kernelspec": {
      "name": "python3",
      "display_name": "Python 3"
    },
    "language_info": {
      "name": "python"
    }
  },
  "cells": [
    {
      "cell_type": "markdown",
      "metadata": {
        "id": "view-in-github",
        "colab_type": "text"
      },
      "source": [
        "<a href=\"https://colab.research.google.com/github/gmauricio-toledo/NLP-LCC/blob/main/Tareas/Challenge_SA_1.ipynb\" target=\"_parent\"><img src=\"https://colab.research.google.com/assets/colab-badge.svg\" alt=\"Open In Colab\"/></a>"
      ]
    },
    {
      "cell_type": "markdown",
      "source": [
        "<h1>Reto I: Análisis de Sentimientos</h1>\n",
        "\n",
        "<h3>Instrucciones para el Reto de Clasificación de Texto</h3>\n",
        "\n",
        "En clase, realizarán predicciones para un conjunto de documentos que les proporcionaré en el momento. Los documentos serán en inglés, la tarea es determinar si tienen una opinión positiva o negativa sobre algún tema (la temática es desconocida).\n",
        "\n",
        "**Parte 1: Predicción con el Modelo Preentrenado**  \n",
        "1. Trae un modelo de clasificación de texto ya entrenado. Puedes usar cualquier corpus que prefieras para entrenar. Tu pipeline debe realizar desde el preprocesamiento y limpieza hasta la predicción de la etiqueta. Puedes entrenarlo en el momento o guardar el modelo ya entrenado.   \n",
        "2. Predice etiquetas para los documentos sin etiquetar que proporcionaré. Tendrán algunos minutos para hacerlo.\n",
        "3. Guarda las predicciones en un archivo csv usando numpy. El nombre del archivo serán tus dos apellidos separados por un guión bajo y al final 1\n",
        "        np.savetxt('apellido1_apellido2_1.csv', y_pred, delimiter=',')\n",
        "4. Subir el archivo a una carpeta de teams.\n",
        "\n",
        "**Parte 2: Reentrenamiento del Modelo**  \n",
        "1. Reentrena el mismo modelo con el nuevo conjunto de datos etiquetado que compartiré.\n",
        "2. Vuelve a predecir las etiquetas para los mismos documentos sin etiqueta.  \n",
        "3. Guarda las nuevas predicciones en `apellido1_apellido2_2.csv` y súbelas a la misma carpeta de Teams.  \n",
        "\n"
      ],
      "metadata": {
        "id": "magrKta36Iuu"
      }
    },
    {
      "cell_type": "markdown",
      "source": [
        "# Etapa 1: Generar predicciones de textos sin etiquetas"
      ],
      "metadata": {
        "id": "hpBW8eyi60Ap"
      }
    },
    {
      "cell_type": "code",
      "source": [
        "!gdown 1r6KBlxREJdVN8su6bn-zhHMDWDSPI4Lt"
      ],
      "metadata": {
        "id": "Gf2Q9UM261sr"
      },
      "execution_count": null,
      "outputs": []
    },
    {
      "cell_type": "code",
      "source": [
        "import pandas as pd\n",
        "\n",
        "path = 'sa_challege_test_text.csv'\n",
        "df = pd.read_csv(path, index_col=0)\n",
        "df"
      ],
      "metadata": {
        "id": "N_k95olt-yOb"
      },
      "execution_count": null,
      "outputs": []
    },
    {
      "cell_type": "markdown",
      "source": [
        "Genera las predicciones con tu modelo pre-entrenado"
      ],
      "metadata": {
        "id": "YRAlHV-HKGur"
      }
    },
    {
      "cell_type": "code",
      "source": [],
      "metadata": {
        "id": "8qki2jFfKGXa"
      },
      "execution_count": null,
      "outputs": []
    },
    {
      "cell_type": "markdown",
      "source": [
        "Recuerda salvar tus predicciones con el formato:\n",
        "\n",
        "        np.savetxt('apellido1_apellido2_1.csv', preds, delimiter=',')\n",
        "\n",
        "\n",
        "**Sube tu archivo a la carpeta `Reto AS 1`** de Teams"
      ],
      "metadata": {
        "id": "gyClZCnhJQ7C"
      }
    },
    {
      "cell_type": "markdown",
      "source": [
        "# Etapa 2: Re-entrenar el modelo y generar predicciones"
      ],
      "metadata": {
        "id": "2DN5Ihr8JoBe"
      }
    },
    {
      "cell_type": "markdown",
      "source": [
        "Corpus de entrenamiento"
      ],
      "metadata": {
        "id": "5pjigC4aJ7RY"
      }
    },
    {
      "cell_type": "code",
      "source": [
        "!gdown 1Mtb-Im0cg0EEUcErvz7MeG0GZKjSD2tx"
      ],
      "metadata": {
        "id": "5SXn7pbfJu-K"
      },
      "execution_count": null,
      "outputs": []
    },
    {
      "cell_type": "code",
      "source": [
        "import pandas as pd\n",
        "\n",
        "train_df = pd.read_csv('sa_challege_train.csv', index_col=0)\n",
        "train_df"
      ],
      "metadata": {
        "id": "wGJgBmjCJ-4R"
      },
      "execution_count": null,
      "outputs": []
    },
    {
      "cell_type": "markdown",
      "source": [
        "Re-entrena tu modelo con este corpus y genera las predicciones"
      ],
      "metadata": {
        "id": "fvYbN6X-J9dF"
      }
    },
    {
      "cell_type": "code",
      "source": [],
      "metadata": {
        "id": "9EXiN9isKPzO"
      },
      "execution_count": null,
      "outputs": []
    },
    {
      "cell_type": "markdown",
      "source": [
        "Recuerda salvar tus predicciones con el formato:\n",
        "\n",
        "        np.savetxt('apellido1_apellido2_2.csv', preds, delimiter=',')\n",
        "\n",
        "**Sube tu archivo a la carpeta `Reto AS 1`** de Teams"
      ],
      "metadata": {
        "id": "pXHApQ1sKVae"
      }
    }
  ]
}