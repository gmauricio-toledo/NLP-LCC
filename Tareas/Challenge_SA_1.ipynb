{
  "nbformat": 4,
  "nbformat_minor": 0,
  "metadata": {
    "colab": {
      "provenance": [],
      "authorship_tag": "ABX9TyMA+U7u+Zcqba59ls9+HRZ5",
      "include_colab_link": true
    },
    "kernelspec": {
      "name": "python3",
      "display_name": "Python 3"
    },
    "language_info": {
      "name": "python"
    }
  },
  "cells": [
    {
      "cell_type": "markdown",
      "metadata": {
        "id": "view-in-github",
        "colab_type": "text"
      },
      "source": [
        "<a href=\"https://colab.research.google.com/github/gmauricio-toledo/NLP-LCC/blob/main/Tareas/Challenge_SA_1.ipynb\" target=\"_parent\"><img src=\"https://colab.research.google.com/assets/colab-badge.svg\" alt=\"Open In Colab\"/></a>"
      ]
    },
    {
      "cell_type": "markdown",
      "source": [
        "<h1>Reto I: Análisis de Sentimientos</h1>\n",
        "\n",
        "<h3>Instrucciones para el Reto de Clasificación de Texto</h3>\n",
        "\n",
        "En clase, realizarán predicciones para un conjunto de documentos que les proporcionaré en el momento. Los documentos serán en inglés, la tarea es determinar si tienen una opinión positiva o negativa sobre algún tema (la temática es desconocida).\n",
        "\n",
        "**Parte 1: Predicción con el Modelo Preentrenado**  \n",
        "1. Trae un modelo de clasificación de texto ya entrenado. Puedes usar cualquier corpus que prefieras para entrenar. Tu pipeline debe realizar desde el preprocesamiento y limpieza hasta la predicción de la etiqueta. Puedes entrenarlo en el momento o guardar el modelo ya entrenado.   \n",
        "2. Predice etiquetas para los documentos sin etiquetar que proporcionaré. Tendrán algunos minutos para hacerlo.\n",
        "3. Guarda las predicciones en un archivo csv usando numpy. El nombre del archivo serán tus dos apellidos separados por un guión bajo y al final 1\n",
        "        np.savetxt('apellido1_apellido2_1.csv', y_pred, delimiter=',')\n",
        "4. Subir el archivo a una carpeta de teams.\n",
        "\n",
        "**Parte 2: Reentrenamiento del Modelo**  \n",
        "1. Reentrena el mismo modelo con el nuevo conjunto de datos etiquetado que compartiré.\n",
        "2. Vuelve a predecir las etiquetas para los mismos documentos sin etiqueta.  \n",
        "3. Guarda las nuevas predicciones en `apellido1_apellido2_2.csv` y súbelas a la misma carpeta de Teams.  \n",
        "\n"
      ],
      "metadata": {
        "id": "magrKta36Iuu"
      }
    },
    {
      "cell_type": "code",
      "execution_count": null,
      "metadata": {
        "id": "3_3FoUFZ3vYe"
      },
      "outputs": [],
      "source": []
    }
  ]
}