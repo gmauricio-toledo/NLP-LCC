{
  "nbformat": 4,
  "nbformat_minor": 0,
  "metadata": {
    "colab": {
      "provenance": [],
      "mount_file_id": "1XNCR22rGxSwdq0ePRf5BgBs3ehCsfob5",
      "authorship_tag": "ABX9TyOjsLyuOR9DKAG7pFdTKvtI",
      "include_colab_link": true
    },
    "kernelspec": {
      "name": "python3",
      "display_name": "Python 3"
    },
    "language_info": {
      "name": "python"
    }
  },
  "cells": [
    {
      "cell_type": "markdown",
      "metadata": {
        "id": "view-in-github",
        "colab_type": "text"
      },
      "source": [
        "<a href=\"https://colab.research.google.com/github/gmauricio-toledo/NLP-LCC/blob/main/Tareas/Challenge_SA_1.ipynb\" target=\"_parent\"><img src=\"https://colab.research.google.com/assets/colab-badge.svg\" alt=\"Open In Colab\"/></a>"
      ]
    },
    {
      "cell_type": "markdown",
      "source": [
        "<h1>Reto I: Análisis de Sentimientos</h1>\n",
        "\n",
        "<h3>Instrucciones para el Reto de Clasificación de Texto</h3>\n",
        "\n",
        "En clase, realizarán predicciones para un conjunto de documentos que les proporcionaré en el momento. Los documentos serán en inglés, la tarea es determinar si tienen una opinión positiva o negativa sobre algún tema (la temática es desconocida).\n",
        "\n",
        "**Parte 1: Predicción con el Modelo Preentrenado**  \n",
        "1. Trae un modelo de clasificación de texto ya entrenado. Puedes usar cualquier corpus que prefieras para entrenar. Tu pipeline debe realizar desde el preprocesamiento y limpieza hasta la predicción de la etiqueta. Puedes entrenarlo en el momento o guardar el modelo ya entrenado.   \n",
        "2. Predice etiquetas para los documentos sin etiquetar que proporcionaré. Tendrán algunos minutos para hacerlo.\n",
        "3. Guarda las predicciones en un archivo csv usando numpy. El nombre del archivo serán tus dos apellidos separados por un guión bajo y al final 1\n",
        "        np.savetxt('apellido1_apellido2_1.csv', y_pred, delimiter=',')\n",
        "4. Subir el archivo a una carpeta de teams.\n",
        "\n",
        "**Parte 2: Reentrenamiento del Modelo**  \n",
        "1. Reentrena el mismo modelo con el nuevo conjunto de datos etiquetado que compartiré.\n",
        "2. Vuelve a predecir las etiquetas para los mismos documentos sin etiqueta.  \n",
        "3. Guarda las nuevas predicciones en `apellido1_apellido2_2.csv` y súbelas a la misma carpeta de Teams.  \n",
        "\n"
      ],
      "metadata": {
        "id": "magrKta36Iuu"
      }
    },
    {
      "cell_type": "markdown",
      "source": [
        "# Etapa 1: Generar predicciones de textos sin etiquetas"
      ],
      "metadata": {
        "id": "hpBW8eyi60Ap"
      }
    },
    {
      "cell_type": "code",
      "source": [
        "!gdown 1r6KBlxREJdVN8su6bn-zhHMDWDSPI4Lt"
      ],
      "metadata": {
        "colab": {
          "base_uri": "https://localhost:8080/"
        },
        "id": "Gf2Q9UM261sr",
        "outputId": "6e422bec-181c-4599-e1c0-1d57fe020b38"
      },
      "execution_count": null,
      "outputs": [
        {
          "output_type": "stream",
          "name": "stdout",
          "text": [
            "Downloading...\n",
            "From: https://drive.google.com/uc?id=1r6KBlxREJdVN8su6bn-zhHMDWDSPI4Lt\n",
            "To: /content/sa_challege_test_text.csv\n",
            "\r  0% 0.00/887k [00:00<?, ?B/s]\r100% 887k/887k [00:00<00:00, 65.5MB/s]\n"
          ]
        }
      ]
    },
    {
      "cell_type": "code",
      "source": [
        "import pandas as pd\n",
        "\n",
        "path = 'sa_challege_test_text.csv'\n",
        "df = pd.read_csv(path, index_col=0)\n",
        "df"
      ],
      "metadata": {
        "colab": {
          "base_uri": "https://localhost:8080/",
          "height": 424
        },
        "id": "N_k95olt-yOb",
        "outputId": "5cc28084-0ba0-4f65-b7d5-213b5630d930"
      },
      "execution_count": null,
      "outputs": [
        {
          "output_type": "execute_result",
          "data": {
            "text/plain": [
              "                                                   text\n",
              "0      Oldie But Goodie: I still enjoy this cartoon ...\n",
              "1      Great product: I am so happy with this produc...\n",
              "2      Very nice: Yes, the arrangements are almost i...\n",
              "3      Story of The YARDBIRDS: Excellant DVD. Had a ...\n",
              "4      BEAUTIFUL: THIS IS ONE OF THE MOST BEAUTIFUL ...\n",
              "...                                                 ...\n",
              "1995   Misguided and unclear product info: I bought ...\n",
              "1996   Not for Metal!: Received this in great time- ...\n",
              "1997   This DVD really helped me: My husband and I w...\n",
              "1998   SWEET DREAM BABY: Faux-Faulkner in Florida: S...\n",
              "1999   optimal purchase: great to film in 3D optimal...\n",
              "\n",
              "[2000 rows x 1 columns]"
            ],
            "text/html": [
              "\n",
              "  <div id=\"df-5c7bbf96-500c-4514-a41e-1082583280fd\" class=\"colab-df-container\">\n",
              "    <div>\n",
              "<style scoped>\n",
              "    .dataframe tbody tr th:only-of-type {\n",
              "        vertical-align: middle;\n",
              "    }\n",
              "\n",
              "    .dataframe tbody tr th {\n",
              "        vertical-align: top;\n",
              "    }\n",
              "\n",
              "    .dataframe thead th {\n",
              "        text-align: right;\n",
              "    }\n",
              "</style>\n",
              "<table border=\"1\" class=\"dataframe\">\n",
              "  <thead>\n",
              "    <tr style=\"text-align: right;\">\n",
              "      <th></th>\n",
              "      <th>text</th>\n",
              "    </tr>\n",
              "  </thead>\n",
              "  <tbody>\n",
              "    <tr>\n",
              "      <th>0</th>\n",
              "      <td>Oldie But Goodie: I still enjoy this cartoon ...</td>\n",
              "    </tr>\n",
              "    <tr>\n",
              "      <th>1</th>\n",
              "      <td>Great product: I am so happy with this produc...</td>\n",
              "    </tr>\n",
              "    <tr>\n",
              "      <th>2</th>\n",
              "      <td>Very nice: Yes, the arrangements are almost i...</td>\n",
              "    </tr>\n",
              "    <tr>\n",
              "      <th>3</th>\n",
              "      <td>Story of The YARDBIRDS: Excellant DVD. Had a ...</td>\n",
              "    </tr>\n",
              "    <tr>\n",
              "      <th>4</th>\n",
              "      <td>BEAUTIFUL: THIS IS ONE OF THE MOST BEAUTIFUL ...</td>\n",
              "    </tr>\n",
              "    <tr>\n",
              "      <th>...</th>\n",
              "      <td>...</td>\n",
              "    </tr>\n",
              "    <tr>\n",
              "      <th>1995</th>\n",
              "      <td>Misguided and unclear product info: I bought ...</td>\n",
              "    </tr>\n",
              "    <tr>\n",
              "      <th>1996</th>\n",
              "      <td>Not for Metal!: Received this in great time- ...</td>\n",
              "    </tr>\n",
              "    <tr>\n",
              "      <th>1997</th>\n",
              "      <td>This DVD really helped me: My husband and I w...</td>\n",
              "    </tr>\n",
              "    <tr>\n",
              "      <th>1998</th>\n",
              "      <td>SWEET DREAM BABY: Faux-Faulkner in Florida: S...</td>\n",
              "    </tr>\n",
              "    <tr>\n",
              "      <th>1999</th>\n",
              "      <td>optimal purchase: great to film in 3D optimal...</td>\n",
              "    </tr>\n",
              "  </tbody>\n",
              "</table>\n",
              "<p>2000 rows × 1 columns</p>\n",
              "</div>\n",
              "    <div class=\"colab-df-buttons\">\n",
              "\n",
              "  <div class=\"colab-df-container\">\n",
              "    <button class=\"colab-df-convert\" onclick=\"convertToInteractive('df-5c7bbf96-500c-4514-a41e-1082583280fd')\"\n",
              "            title=\"Convert this dataframe to an interactive table.\"\n",
              "            style=\"display:none;\">\n",
              "\n",
              "  <svg xmlns=\"http://www.w3.org/2000/svg\" height=\"24px\" viewBox=\"0 -960 960 960\">\n",
              "    <path d=\"M120-120v-720h720v720H120Zm60-500h600v-160H180v160Zm220 220h160v-160H400v160Zm0 220h160v-160H400v160ZM180-400h160v-160H180v160Zm440 0h160v-160H620v160ZM180-180h160v-160H180v160Zm440 0h160v-160H620v160Z\"/>\n",
              "  </svg>\n",
              "    </button>\n",
              "\n",
              "  <style>\n",
              "    .colab-df-container {\n",
              "      display:flex;\n",
              "      gap: 12px;\n",
              "    }\n",
              "\n",
              "    .colab-df-convert {\n",
              "      background-color: #E8F0FE;\n",
              "      border: none;\n",
              "      border-radius: 50%;\n",
              "      cursor: pointer;\n",
              "      display: none;\n",
              "      fill: #1967D2;\n",
              "      height: 32px;\n",
              "      padding: 0 0 0 0;\n",
              "      width: 32px;\n",
              "    }\n",
              "\n",
              "    .colab-df-convert:hover {\n",
              "      background-color: #E2EBFA;\n",
              "      box-shadow: 0px 1px 2px rgba(60, 64, 67, 0.3), 0px 1px 3px 1px rgba(60, 64, 67, 0.15);\n",
              "      fill: #174EA6;\n",
              "    }\n",
              "\n",
              "    .colab-df-buttons div {\n",
              "      margin-bottom: 4px;\n",
              "    }\n",
              "\n",
              "    [theme=dark] .colab-df-convert {\n",
              "      background-color: #3B4455;\n",
              "      fill: #D2E3FC;\n",
              "    }\n",
              "\n",
              "    [theme=dark] .colab-df-convert:hover {\n",
              "      background-color: #434B5C;\n",
              "      box-shadow: 0px 1px 3px 1px rgba(0, 0, 0, 0.15);\n",
              "      filter: drop-shadow(0px 1px 2px rgba(0, 0, 0, 0.3));\n",
              "      fill: #FFFFFF;\n",
              "    }\n",
              "  </style>\n",
              "\n",
              "    <script>\n",
              "      const buttonEl =\n",
              "        document.querySelector('#df-5c7bbf96-500c-4514-a41e-1082583280fd button.colab-df-convert');\n",
              "      buttonEl.style.display =\n",
              "        google.colab.kernel.accessAllowed ? 'block' : 'none';\n",
              "\n",
              "      async function convertToInteractive(key) {\n",
              "        const element = document.querySelector('#df-5c7bbf96-500c-4514-a41e-1082583280fd');\n",
              "        const dataTable =\n",
              "          await google.colab.kernel.invokeFunction('convertToInteractive',\n",
              "                                                    [key], {});\n",
              "        if (!dataTable) return;\n",
              "\n",
              "        const docLinkHtml = 'Like what you see? Visit the ' +\n",
              "          '<a target=\"_blank\" href=https://colab.research.google.com/notebooks/data_table.ipynb>data table notebook</a>'\n",
              "          + ' to learn more about interactive tables.';\n",
              "        element.innerHTML = '';\n",
              "        dataTable['output_type'] = 'display_data';\n",
              "        await google.colab.output.renderOutput(dataTable, element);\n",
              "        const docLink = document.createElement('div');\n",
              "        docLink.innerHTML = docLinkHtml;\n",
              "        element.appendChild(docLink);\n",
              "      }\n",
              "    </script>\n",
              "  </div>\n",
              "\n",
              "\n",
              "<div id=\"df-7b5a295e-2529-4ab4-9960-327905a9830e\">\n",
              "  <button class=\"colab-df-quickchart\" onclick=\"quickchart('df-7b5a295e-2529-4ab4-9960-327905a9830e')\"\n",
              "            title=\"Suggest charts\"\n",
              "            style=\"display:none;\">\n",
              "\n",
              "<svg xmlns=\"http://www.w3.org/2000/svg\" height=\"24px\"viewBox=\"0 0 24 24\"\n",
              "     width=\"24px\">\n",
              "    <g>\n",
              "        <path d=\"M19 3H5c-1.1 0-2 .9-2 2v14c0 1.1.9 2 2 2h14c1.1 0 2-.9 2-2V5c0-1.1-.9-2-2-2zM9 17H7v-7h2v7zm4 0h-2V7h2v10zm4 0h-2v-4h2v4z\"/>\n",
              "    </g>\n",
              "</svg>\n",
              "  </button>\n",
              "\n",
              "<style>\n",
              "  .colab-df-quickchart {\n",
              "      --bg-color: #E8F0FE;\n",
              "      --fill-color: #1967D2;\n",
              "      --hover-bg-color: #E2EBFA;\n",
              "      --hover-fill-color: #174EA6;\n",
              "      --disabled-fill-color: #AAA;\n",
              "      --disabled-bg-color: #DDD;\n",
              "  }\n",
              "\n",
              "  [theme=dark] .colab-df-quickchart {\n",
              "      --bg-color: #3B4455;\n",
              "      --fill-color: #D2E3FC;\n",
              "      --hover-bg-color: #434B5C;\n",
              "      --hover-fill-color: #FFFFFF;\n",
              "      --disabled-bg-color: #3B4455;\n",
              "      --disabled-fill-color: #666;\n",
              "  }\n",
              "\n",
              "  .colab-df-quickchart {\n",
              "    background-color: var(--bg-color);\n",
              "    border: none;\n",
              "    border-radius: 50%;\n",
              "    cursor: pointer;\n",
              "    display: none;\n",
              "    fill: var(--fill-color);\n",
              "    height: 32px;\n",
              "    padding: 0;\n",
              "    width: 32px;\n",
              "  }\n",
              "\n",
              "  .colab-df-quickchart:hover {\n",
              "    background-color: var(--hover-bg-color);\n",
              "    box-shadow: 0 1px 2px rgba(60, 64, 67, 0.3), 0 1px 3px 1px rgba(60, 64, 67, 0.15);\n",
              "    fill: var(--button-hover-fill-color);\n",
              "  }\n",
              "\n",
              "  .colab-df-quickchart-complete:disabled,\n",
              "  .colab-df-quickchart-complete:disabled:hover {\n",
              "    background-color: var(--disabled-bg-color);\n",
              "    fill: var(--disabled-fill-color);\n",
              "    box-shadow: none;\n",
              "  }\n",
              "\n",
              "  .colab-df-spinner {\n",
              "    border: 2px solid var(--fill-color);\n",
              "    border-color: transparent;\n",
              "    border-bottom-color: var(--fill-color);\n",
              "    animation:\n",
              "      spin 1s steps(1) infinite;\n",
              "  }\n",
              "\n",
              "  @keyframes spin {\n",
              "    0% {\n",
              "      border-color: transparent;\n",
              "      border-bottom-color: var(--fill-color);\n",
              "      border-left-color: var(--fill-color);\n",
              "    }\n",
              "    20% {\n",
              "      border-color: transparent;\n",
              "      border-left-color: var(--fill-color);\n",
              "      border-top-color: var(--fill-color);\n",
              "    }\n",
              "    30% {\n",
              "      border-color: transparent;\n",
              "      border-left-color: var(--fill-color);\n",
              "      border-top-color: var(--fill-color);\n",
              "      border-right-color: var(--fill-color);\n",
              "    }\n",
              "    40% {\n",
              "      border-color: transparent;\n",
              "      border-right-color: var(--fill-color);\n",
              "      border-top-color: var(--fill-color);\n",
              "    }\n",
              "    60% {\n",
              "      border-color: transparent;\n",
              "      border-right-color: var(--fill-color);\n",
              "    }\n",
              "    80% {\n",
              "      border-color: transparent;\n",
              "      border-right-color: var(--fill-color);\n",
              "      border-bottom-color: var(--fill-color);\n",
              "    }\n",
              "    90% {\n",
              "      border-color: transparent;\n",
              "      border-bottom-color: var(--fill-color);\n",
              "    }\n",
              "  }\n",
              "</style>\n",
              "\n",
              "  <script>\n",
              "    async function quickchart(key) {\n",
              "      const quickchartButtonEl =\n",
              "        document.querySelector('#' + key + ' button');\n",
              "      quickchartButtonEl.disabled = true;  // To prevent multiple clicks.\n",
              "      quickchartButtonEl.classList.add('colab-df-spinner');\n",
              "      try {\n",
              "        const charts = await google.colab.kernel.invokeFunction(\n",
              "            'suggestCharts', [key], {});\n",
              "      } catch (error) {\n",
              "        console.error('Error during call to suggestCharts:', error);\n",
              "      }\n",
              "      quickchartButtonEl.classList.remove('colab-df-spinner');\n",
              "      quickchartButtonEl.classList.add('colab-df-quickchart-complete');\n",
              "    }\n",
              "    (() => {\n",
              "      let quickchartButtonEl =\n",
              "        document.querySelector('#df-7b5a295e-2529-4ab4-9960-327905a9830e button');\n",
              "      quickchartButtonEl.style.display =\n",
              "        google.colab.kernel.accessAllowed ? 'block' : 'none';\n",
              "    })();\n",
              "  </script>\n",
              "</div>\n",
              "\n",
              "  <div id=\"id_36e8b3e8-4885-4f7c-9ded-3ea43454d606\">\n",
              "    <style>\n",
              "      .colab-df-generate {\n",
              "        background-color: #E8F0FE;\n",
              "        border: none;\n",
              "        border-radius: 50%;\n",
              "        cursor: pointer;\n",
              "        display: none;\n",
              "        fill: #1967D2;\n",
              "        height: 32px;\n",
              "        padding: 0 0 0 0;\n",
              "        width: 32px;\n",
              "      }\n",
              "\n",
              "      .colab-df-generate:hover {\n",
              "        background-color: #E2EBFA;\n",
              "        box-shadow: 0px 1px 2px rgba(60, 64, 67, 0.3), 0px 1px 3px 1px rgba(60, 64, 67, 0.15);\n",
              "        fill: #174EA6;\n",
              "      }\n",
              "\n",
              "      [theme=dark] .colab-df-generate {\n",
              "        background-color: #3B4455;\n",
              "        fill: #D2E3FC;\n",
              "      }\n",
              "\n",
              "      [theme=dark] .colab-df-generate:hover {\n",
              "        background-color: #434B5C;\n",
              "        box-shadow: 0px 1px 3px 1px rgba(0, 0, 0, 0.15);\n",
              "        filter: drop-shadow(0px 1px 2px rgba(0, 0, 0, 0.3));\n",
              "        fill: #FFFFFF;\n",
              "      }\n",
              "    </style>\n",
              "    <button class=\"colab-df-generate\" onclick=\"generateWithVariable('df')\"\n",
              "            title=\"Generate code using this dataframe.\"\n",
              "            style=\"display:none;\">\n",
              "\n",
              "  <svg xmlns=\"http://www.w3.org/2000/svg\" height=\"24px\"viewBox=\"0 0 24 24\"\n",
              "       width=\"24px\">\n",
              "    <path d=\"M7,19H8.4L18.45,9,17,7.55,7,17.6ZM5,21V16.75L18.45,3.32a2,2,0,0,1,2.83,0l1.4,1.43a1.91,1.91,0,0,1,.58,1.4,1.91,1.91,0,0,1-.58,1.4L9.25,21ZM18.45,9,17,7.55Zm-12,3A5.31,5.31,0,0,0,4.9,8.1,5.31,5.31,0,0,0,1,6.5,5.31,5.31,0,0,0,4.9,4.9,5.31,5.31,0,0,0,6.5,1,5.31,5.31,0,0,0,8.1,4.9,5.31,5.31,0,0,0,12,6.5,5.46,5.46,0,0,0,6.5,12Z\"/>\n",
              "  </svg>\n",
              "    </button>\n",
              "    <script>\n",
              "      (() => {\n",
              "      const buttonEl =\n",
              "        document.querySelector('#id_36e8b3e8-4885-4f7c-9ded-3ea43454d606 button.colab-df-generate');\n",
              "      buttonEl.style.display =\n",
              "        google.colab.kernel.accessAllowed ? 'block' : 'none';\n",
              "\n",
              "      buttonEl.onclick = () => {\n",
              "        google.colab.notebook.generateWithVariable('df');\n",
              "      }\n",
              "      })();\n",
              "    </script>\n",
              "  </div>\n",
              "\n",
              "    </div>\n",
              "  </div>\n"
            ],
            "application/vnd.google.colaboratory.intrinsic+json": {
              "type": "dataframe",
              "variable_name": "df",
              "summary": "{\n  \"name\": \"df\",\n  \"rows\": 2000,\n  \"fields\": [\n    {\n      \"column\": \"text\",\n      \"properties\": {\n        \"dtype\": \"string\",\n        \"num_unique_values\": 2000,\n        \"samples\": [\n          \" This could be the best yet...: In some ways I think this is Bebel's best album to date. Her music on this album exudes sensuality and sex appeal in a relaxed and mellow way. I am amazed that some fellow reviewers did not feel this from listening to this album. I have counted 2 so-so songs out of the whole entire album. The rest of the album is awesome, hence why I give 4 instead of five stars. Looking back on her other albums I found that there were always a few songs that were just so-so compared to the other songs on the album. She again beautifully fuses electronic and organic elements on this album. She shifts between the slower more intimate songs like \\\"Close to You\\\" and \\\"Night and Day\\\" to more festive songs like \\\"Cadaca\\\" and the great \\\"Os Novos Yorkinos\\\" (one of my favorites). All in all I think the songs are well arranged, Bebel's sounds great as always, and you should buy this if you liked her other albums.\\n\",\n          \" Excellent: First rabbit and it works amazingly. It does things that I never expected it to do. I would definitely by another one if something ever happened to this one.\\n\",\n          \" A Horrible Mess of Incoherent Words: This book was terrible! Half the characters did not have an ending and no main character is apparent. Then again, I'm a freshman in high school and may be a little inexperienced to judge so harshly. I personally dislike Dicken's wordy style of writing because it's easy to get lost. If you like Dickens, and you don't mind his writing style I'm sure you would probably disagree with me. I'll give it a two.\\n\"\n        ],\n        \"semantic_type\": \"\",\n        \"description\": \"\"\n      }\n    }\n  ]\n}"
            }
          },
          "metadata": {},
          "execution_count": 54
        }
      ]
    },
    {
      "cell_type": "markdown",
      "source": [
        "Genera las predicciones con tu modelo pre-entrenado"
      ],
      "metadata": {
        "id": "YRAlHV-HKGur"
      }
    },
    {
      "cell_type": "code",
      "source": [],
      "metadata": {
        "id": "8qki2jFfKGXa"
      },
      "execution_count": null,
      "outputs": []
    },
    {
      "cell_type": "markdown",
      "source": [
        "Recuerda salvar tus predicciones con el formato:\n",
        "\n",
        "        np.savetxt('apellido1_apellido2_1.csv', preds, delimiter=',')\n",
        "\n",
        "\n",
        "**Sube tu archivo a la carpeta `Reto AS 1`** de Teams"
      ],
      "metadata": {
        "id": "gyClZCnhJQ7C"
      }
    },
    {
      "cell_type": "markdown",
      "source": [
        "# Etapa 2: Re-entrenar el modelo y generar predicciones"
      ],
      "metadata": {
        "id": "2DN5Ihr8JoBe"
      }
    },
    {
      "cell_type": "markdown",
      "source": [
        "Corpus de entrenamiento"
      ],
      "metadata": {
        "id": "5pjigC4aJ7RY"
      }
    },
    {
      "cell_type": "code",
      "source": [
        "!gdown 1Mtb-Im0cg0EEUcErvz7MeG0GZKjSD2tx"
      ],
      "metadata": {
        "colab": {
          "base_uri": "https://localhost:8080/"
        },
        "id": "5SXn7pbfJu-K",
        "outputId": "e5b64d5f-c1a7-447e-e6ba-bb2235bcb9a1"
      },
      "execution_count": null,
      "outputs": [
        {
          "output_type": "stream",
          "name": "stdout",
          "text": [
            "Downloading...\n",
            "From: https://drive.google.com/uc?id=1Mtb-Im0cg0EEUcErvz7MeG0GZKjSD2tx\n",
            "To: /content/sa_challege_train.csv\n",
            "\r  0% 0.00/3.62M [00:00<?, ?B/s]\r100% 3.62M/3.62M [00:00<00:00, 94.4MB/s]\n"
          ]
        }
      ]
    },
    {
      "cell_type": "code",
      "source": [
        "import pandas as pd\n",
        "\n",
        "train_df = pd.read_csv('sa_challege_train.csv', index_col=0)\n",
        "train_df"
      ],
      "metadata": {
        "id": "wGJgBmjCJ-4R"
      },
      "execution_count": null,
      "outputs": []
    },
    {
      "cell_type": "markdown",
      "source": [
        "Re-entrena tu modelo con este corpus y genera las predicciones"
      ],
      "metadata": {
        "id": "fvYbN6X-J9dF"
      }
    },
    {
      "cell_type": "code",
      "source": [],
      "metadata": {
        "id": "9EXiN9isKPzO"
      },
      "execution_count": null,
      "outputs": []
    },
    {
      "cell_type": "markdown",
      "source": [
        "Recuerda salvar tus predicciones con el formato:\n",
        "\n",
        "        np.savetxt('apellido1_apellido2_2.csv', preds, delimiter=',')\n",
        "\n",
        "**Sube tu archivo a la carpeta `Reto AS 1`** de Teams"
      ],
      "metadata": {
        "id": "pXHApQ1sKVae"
      }
    }
  ]
}