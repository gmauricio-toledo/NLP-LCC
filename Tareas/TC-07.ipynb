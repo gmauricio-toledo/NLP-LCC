{
  "nbformat": 4,
  "nbformat_minor": 0,
  "metadata": {
    "colab": {
      "provenance": [],
      "authorship_tag": "ABX9TyP/aC4s2Oz7NrsaFDe5d/yC",
      "include_colab_link": true
    },
    "kernelspec": {
      "name": "python3",
      "display_name": "Python 3"
    },
    "language_info": {
      "name": "python"
    }
  },
  "cells": [
    {
      "cell_type": "markdown",
      "metadata": {
        "id": "view-in-github",
        "colab_type": "text"
      },
      "source": [
        "<a href=\"https://colab.research.google.com/github/gmauricio-toledo/NLP-LCC/blob/main/Tareas/TC-07.ipynb\" target=\"_parent\"><img src=\"https://colab.research.google.com/assets/colab-badge.svg\" alt=\"Open In Colab\"/></a>"
      ]
    },
    {
      "cell_type": "code",
      "source": [
        "!gdown 14nqDnZ3oDXqRtIcrpB6IP1f_NZP_Gb08"
      ],
      "metadata": {
        "id": "hjx2OkfMi6HG"
      },
      "execution_count": null,
      "outputs": []
    },
    {
      "cell_type": "code",
      "source": [
        "import pandas as pd\n",
        "\n",
        "df = pd.read_csv('YoutubeCommentsDataSet.csv',index_col=0)"
      ],
      "metadata": {
        "id": "lLb2ZCq8lVtB"
      },
      "execution_count": null,
      "outputs": []
    },
    {
      "cell_type": "markdown",
      "source": [
        "# Trabajo en clase\n",
        "\n",
        "En esta práctica, exploraremos dos métodos comunes para vectorizar textos en el NLP: **Bag of Words (BOW)** y **TF-IDF**. Utilizaremos implementaciones de `scikit-learn` para llevar a cabo la vectorización y entrenaremos un clasificador para realizar análisis de sentimientos. El objetivo es comparar el rendimiento de ambos métodos bajo diferentes configuraciones.\n",
        "\n",
        "## Instrucciones\n",
        "\n",
        "1. **Preprocesamiento y análisis exploratorio**:\n",
        "   - Realiza la limpieza de los textos que consideres necesario.\n",
        "   - Elimina stopwords si lo consideras necesario.\n",
        "   - Realiza un análisis exploratorio de los datos: distribución de clases, longitud de textos, palabras más frecuentes (puedes usar una nube de palabras o mostrar las palabras más frecuentes por clase).\n",
        "\n",
        "2. **Vectorización de textos**:\n",
        "   - **BOW**: Usa `CountVectorizer` de `scikit-learn` para vectorizar los textos. Prueba con tres valores de `max_features` en órdenes de magnitud distintos.\n",
        "   - **TF-IDF**: Usa `TfidfVectorizer` de `scikit-learn` para vectorizar los textos. Prueba con los mismos tres valores de `max_features` que usaste para BOW.\n",
        "\n",
        "3. **Entrenamiento del clasificador**: Elige un clasificador (por ejemplo, `LogisticRegression`, `DecisionTree`, `Naive Bayes`, etc.) y entrénalo utilizando los datos vectorizados tanto con BOW como con TF-IDF. Cuida los aspectos relacionados con el *data leakage*.\n",
        "\n",
        "4. **Evaluación y reporte**: Para cada combinación de método de vectorización (BOW y TF-IDF) y valor de `max_features`, calcula el F1-score. Reporta los resultados en una tabla como la siguiente:\n",
        "\n",
        "| Método  | max_features | F1-score |\n",
        "|---------|--------------|----------|\n",
        "| BOW     | valor1          |          |\n",
        "| BOW     | valor2         |          |\n",
        "| BOW     | valor3        |          |\n",
        "| TF-IDF  | valor1          |          |\n",
        "| TF-IDF  | valor2         |          |\n",
        "| TF-IDF  | valor3        |          |\n",
        "\n",
        "5. **Conclusiones**: Responde las siguientes preguntas en una celda de texto:\n",
        "   - ¿Cuál método de vectorización (BOW o TF-IDF) obtuvo mejores resultados en general? ¿qué combinación de vectorización y valor de `max_features` produjo el mejor resultado.\n",
        "   - ¿Cómo afecta el valor de `max_features` al rendimiento del modelo?\n",
        "   - ¿Qué estrategias adicionales consideras que podrían mejorar el rendimiento de tu modelo? Describe dos de estas estrategias. **Importante**: Cada estrategia debe ser con BOW/TF-IDF.  \n",
        "   - Describe el proprocesamiento que hiciste en el paso 1."
      ],
      "metadata": {
        "id": "7CNTWPH1lbMt"
      }
    },
    {
      "cell_type": "code",
      "source": [],
      "metadata": {
        "id": "XamWG1GmlYvZ"
      },
      "execution_count": 9,
      "outputs": []
    }
  ]
}