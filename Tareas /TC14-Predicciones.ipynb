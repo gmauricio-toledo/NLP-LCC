{
  "nbformat": 4,
  "nbformat_minor": 0,
  "metadata": {
    "colab": {
      "provenance": [],
      "authorship_tag": "ABX9TyONYB1V2nDTcnKxNQxF1HAK",
      "include_colab_link": true
    },
    "kernelspec": {
      "name": "python3",
      "display_name": "Python 3"
    },
    "language_info": {
      "name": "python"
    }
  },
  "cells": [
    {
      "cell_type": "markdown",
      "metadata": {
        "id": "view-in-github",
        "colab_type": "text"
      },
      "source": [
        "<a href=\"https://colab.research.google.com/github/gmauricio-toledo/NLP-LCC/blob/main/Tareas%20/TC14-Predicciones.ipynb\" target=\"_parent\"><img src=\"https://colab.research.google.com/assets/colab-badge.svg\" alt=\"Open In Colab\"/></a>"
      ]
    },
    {
      "cell_type": "markdown",
      "source": [
        "<h1>Rest Mex 2025</h1>\n",
        "<h3>Generando las predicciones del dataset de prueba</h3>\n",
        "\n",
        "**Actividad individual**"
      ],
      "metadata": {
        "id": "RF6cZcj6ZDNu"
      }
    },
    {
      "cell_type": "markdown",
      "source": [
        "Es posible que se tengan que hacer estos *downgrades*"
      ],
      "metadata": {
        "id": "pMnRXLirWY2h"
      }
    },
    {
      "cell_type": "code",
      "source": [
        "!pip uninstall -y numpy scipy gensim\n",
        "!pip install numpy==1.24.3\n",
        "!pip install scipy==1.10.1\n",
        "!pip install gensim==4.3.1"
      ],
      "metadata": {
        "id": "20jmr5_i67_W"
      },
      "execution_count": null,
      "outputs": []
    },
    {
      "cell_type": "markdown",
      "source": [
        "Más información: https://sites.google.com/cimat.mx/rest-mex-2025/home"
      ],
      "metadata": {
        "id": "iPA39Zcj2iIJ"
      }
    },
    {
      "cell_type": "markdown",
      "source": [
        "# Instrucciones\n",
        "\n",
        "Esta actividad consiste en generar predicciones para cada una de sus tareas del RestMex usando el dataset de prueba. Para esto, usarás algún modelo de los que ya has probado, usa el mejor modelo que tienes hasta el momento, siempre y cuando pueda correrse en colab. Algunas observaciones importantes:\n",
        "\n",
        "* Realiza el mismo preprocesamiento que usaste en el corpus de entrenamiento de tu modelo.\n",
        "* Tienes que predecir una etiqueta para cada texto de este conjunto de prueba, no puedes generar menos ni más predicciones.\n",
        "\n",
        "**Importante**: El modelo entrenado que uses, guardalo en un archivo. De esta forma ya no tienes que entrenar el modelo cada vez que lo uses para generar predicciones"
      ],
      "metadata": {
        "id": "3CBad05PRAK8"
      }
    },
    {
      "cell_type": "markdown",
      "source": [
        "El dataset de prueba:"
      ],
      "metadata": {
        "id": "9V0x-UHwYk5M"
      }
    },
    {
      "cell_type": "code",
      "source": [
        "import pandas as pd\n",
        "\n",
        "url = \"https://raw.githubusercontent.com/gmauricio-toledo/NLP-LCC/main/Rest-Mex/Rest-Mex_2025_test.xlsx\"\n",
        "test_df = pd.read_excel(url)\n",
        "test_df.drop(columns='ID',inplace=True)\n",
        "test_size = test_df.shape[0]\n",
        "test_df.head()"
      ],
      "metadata": {
        "id": "UIcMwRk8A5gV",
        "outputId": "646cd22d-fb79-4b3a-e32d-a07035c45344",
        "colab": {
          "base_uri": "https://localhost:8080/",
          "height": 206
        }
      },
      "execution_count": null,
      "outputs": [
        {
          "output_type": "execute_result",
          "data": {
            "text/plain": [
              "                                        Title  \\\n",
              "0      Una de las mejores comidas en Sayulita   \n",
              "1                           Me gustó mucho...   \n",
              "2  Excelentes  restaurantes en hotel Guaycura   \n",
              "3                    Gran desayuno y almuerzo   \n",
              "4         Mejor atención de la zona hotelera!   \n",
              "\n",
              "                                              Review  \n",
              "0  Comida exelente, el lugar muy cómodo y persona...  \n",
              "1  En mi camino hacia Mahahual paré a comer en es...  \n",
              "2  Excelente Servicio, la comida es deliciosa tan...  \n",
              "3  Mi esposa y yo fuimos allí dos veces. Una vez ...  \n",
              "4  Increíble restaurant! La comida riquísima, la ...  "
            ],
            "text/html": [
              "\n",
              "  <div id=\"df-44184073-fa85-462a-9462-7698be483909\" class=\"colab-df-container\">\n",
              "    <div>\n",
              "<style scoped>\n",
              "    .dataframe tbody tr th:only-of-type {\n",
              "        vertical-align: middle;\n",
              "    }\n",
              "\n",
              "    .dataframe tbody tr th {\n",
              "        vertical-align: top;\n",
              "    }\n",
              "\n",
              "    .dataframe thead th {\n",
              "        text-align: right;\n",
              "    }\n",
              "</style>\n",
              "<table border=\"1\" class=\"dataframe\">\n",
              "  <thead>\n",
              "    <tr style=\"text-align: right;\">\n",
              "      <th></th>\n",
              "      <th>Title</th>\n",
              "      <th>Review</th>\n",
              "    </tr>\n",
              "  </thead>\n",
              "  <tbody>\n",
              "    <tr>\n",
              "      <th>0</th>\n",
              "      <td>Una de las mejores comidas en Sayulita</td>\n",
              "      <td>Comida exelente, el lugar muy cómodo y persona...</td>\n",
              "    </tr>\n",
              "    <tr>\n",
              "      <th>1</th>\n",
              "      <td>Me gustó mucho...</td>\n",
              "      <td>En mi camino hacia Mahahual paré a comer en es...</td>\n",
              "    </tr>\n",
              "    <tr>\n",
              "      <th>2</th>\n",
              "      <td>Excelentes  restaurantes en hotel Guaycura</td>\n",
              "      <td>Excelente Servicio, la comida es deliciosa tan...</td>\n",
              "    </tr>\n",
              "    <tr>\n",
              "      <th>3</th>\n",
              "      <td>Gran desayuno y almuerzo</td>\n",
              "      <td>Mi esposa y yo fuimos allí dos veces. Una vez ...</td>\n",
              "    </tr>\n",
              "    <tr>\n",
              "      <th>4</th>\n",
              "      <td>Mejor atención de la zona hotelera!</td>\n",
              "      <td>Increíble restaurant! La comida riquísima, la ...</td>\n",
              "    </tr>\n",
              "  </tbody>\n",
              "</table>\n",
              "</div>\n",
              "    <div class=\"colab-df-buttons\">\n",
              "\n",
              "  <div class=\"colab-df-container\">\n",
              "    <button class=\"colab-df-convert\" onclick=\"convertToInteractive('df-44184073-fa85-462a-9462-7698be483909')\"\n",
              "            title=\"Convert this dataframe to an interactive table.\"\n",
              "            style=\"display:none;\">\n",
              "\n",
              "  <svg xmlns=\"http://www.w3.org/2000/svg\" height=\"24px\" viewBox=\"0 -960 960 960\">\n",
              "    <path d=\"M120-120v-720h720v720H120Zm60-500h600v-160H180v160Zm220 220h160v-160H400v160Zm0 220h160v-160H400v160ZM180-400h160v-160H180v160Zm440 0h160v-160H620v160ZM180-180h160v-160H180v160Zm440 0h160v-160H620v160Z\"/>\n",
              "  </svg>\n",
              "    </button>\n",
              "\n",
              "  <style>\n",
              "    .colab-df-container {\n",
              "      display:flex;\n",
              "      gap: 12px;\n",
              "    }\n",
              "\n",
              "    .colab-df-convert {\n",
              "      background-color: #E8F0FE;\n",
              "      border: none;\n",
              "      border-radius: 50%;\n",
              "      cursor: pointer;\n",
              "      display: none;\n",
              "      fill: #1967D2;\n",
              "      height: 32px;\n",
              "      padding: 0 0 0 0;\n",
              "      width: 32px;\n",
              "    }\n",
              "\n",
              "    .colab-df-convert:hover {\n",
              "      background-color: #E2EBFA;\n",
              "      box-shadow: 0px 1px 2px rgba(60, 64, 67, 0.3), 0px 1px 3px 1px rgba(60, 64, 67, 0.15);\n",
              "      fill: #174EA6;\n",
              "    }\n",
              "\n",
              "    .colab-df-buttons div {\n",
              "      margin-bottom: 4px;\n",
              "    }\n",
              "\n",
              "    [theme=dark] .colab-df-convert {\n",
              "      background-color: #3B4455;\n",
              "      fill: #D2E3FC;\n",
              "    }\n",
              "\n",
              "    [theme=dark] .colab-df-convert:hover {\n",
              "      background-color: #434B5C;\n",
              "      box-shadow: 0px 1px 3px 1px rgba(0, 0, 0, 0.15);\n",
              "      filter: drop-shadow(0px 1px 2px rgba(0, 0, 0, 0.3));\n",
              "      fill: #FFFFFF;\n",
              "    }\n",
              "  </style>\n",
              "\n",
              "    <script>\n",
              "      const buttonEl =\n",
              "        document.querySelector('#df-44184073-fa85-462a-9462-7698be483909 button.colab-df-convert');\n",
              "      buttonEl.style.display =\n",
              "        google.colab.kernel.accessAllowed ? 'block' : 'none';\n",
              "\n",
              "      async function convertToInteractive(key) {\n",
              "        const element = document.querySelector('#df-44184073-fa85-462a-9462-7698be483909');\n",
              "        const dataTable =\n",
              "          await google.colab.kernel.invokeFunction('convertToInteractive',\n",
              "                                                    [key], {});\n",
              "        if (!dataTable) return;\n",
              "\n",
              "        const docLinkHtml = 'Like what you see? Visit the ' +\n",
              "          '<a target=\"_blank\" href=https://colab.research.google.com/notebooks/data_table.ipynb>data table notebook</a>'\n",
              "          + ' to learn more about interactive tables.';\n",
              "        element.innerHTML = '';\n",
              "        dataTable['output_type'] = 'display_data';\n",
              "        await google.colab.output.renderOutput(dataTable, element);\n",
              "        const docLink = document.createElement('div');\n",
              "        docLink.innerHTML = docLinkHtml;\n",
              "        element.appendChild(docLink);\n",
              "      }\n",
              "    </script>\n",
              "  </div>\n",
              "\n",
              "\n",
              "<div id=\"df-12457ff5-b89f-46e8-b6d0-bc41262f46ab\">\n",
              "  <button class=\"colab-df-quickchart\" onclick=\"quickchart('df-12457ff5-b89f-46e8-b6d0-bc41262f46ab')\"\n",
              "            title=\"Suggest charts\"\n",
              "            style=\"display:none;\">\n",
              "\n",
              "<svg xmlns=\"http://www.w3.org/2000/svg\" height=\"24px\"viewBox=\"0 0 24 24\"\n",
              "     width=\"24px\">\n",
              "    <g>\n",
              "        <path d=\"M19 3H5c-1.1 0-2 .9-2 2v14c0 1.1.9 2 2 2h14c1.1 0 2-.9 2-2V5c0-1.1-.9-2-2-2zM9 17H7v-7h2v7zm4 0h-2V7h2v10zm4 0h-2v-4h2v4z\"/>\n",
              "    </g>\n",
              "</svg>\n",
              "  </button>\n",
              "\n",
              "<style>\n",
              "  .colab-df-quickchart {\n",
              "      --bg-color: #E8F0FE;\n",
              "      --fill-color: #1967D2;\n",
              "      --hover-bg-color: #E2EBFA;\n",
              "      --hover-fill-color: #174EA6;\n",
              "      --disabled-fill-color: #AAA;\n",
              "      --disabled-bg-color: #DDD;\n",
              "  }\n",
              "\n",
              "  [theme=dark] .colab-df-quickchart {\n",
              "      --bg-color: #3B4455;\n",
              "      --fill-color: #D2E3FC;\n",
              "      --hover-bg-color: #434B5C;\n",
              "      --hover-fill-color: #FFFFFF;\n",
              "      --disabled-bg-color: #3B4455;\n",
              "      --disabled-fill-color: #666;\n",
              "  }\n",
              "\n",
              "  .colab-df-quickchart {\n",
              "    background-color: var(--bg-color);\n",
              "    border: none;\n",
              "    border-radius: 50%;\n",
              "    cursor: pointer;\n",
              "    display: none;\n",
              "    fill: var(--fill-color);\n",
              "    height: 32px;\n",
              "    padding: 0;\n",
              "    width: 32px;\n",
              "  }\n",
              "\n",
              "  .colab-df-quickchart:hover {\n",
              "    background-color: var(--hover-bg-color);\n",
              "    box-shadow: 0 1px 2px rgba(60, 64, 67, 0.3), 0 1px 3px 1px rgba(60, 64, 67, 0.15);\n",
              "    fill: var(--button-hover-fill-color);\n",
              "  }\n",
              "\n",
              "  .colab-df-quickchart-complete:disabled,\n",
              "  .colab-df-quickchart-complete:disabled:hover {\n",
              "    background-color: var(--disabled-bg-color);\n",
              "    fill: var(--disabled-fill-color);\n",
              "    box-shadow: none;\n",
              "  }\n",
              "\n",
              "  .colab-df-spinner {\n",
              "    border: 2px solid var(--fill-color);\n",
              "    border-color: transparent;\n",
              "    border-bottom-color: var(--fill-color);\n",
              "    animation:\n",
              "      spin 1s steps(1) infinite;\n",
              "  }\n",
              "\n",
              "  @keyframes spin {\n",
              "    0% {\n",
              "      border-color: transparent;\n",
              "      border-bottom-color: var(--fill-color);\n",
              "      border-left-color: var(--fill-color);\n",
              "    }\n",
              "    20% {\n",
              "      border-color: transparent;\n",
              "      border-left-color: var(--fill-color);\n",
              "      border-top-color: var(--fill-color);\n",
              "    }\n",
              "    30% {\n",
              "      border-color: transparent;\n",
              "      border-left-color: var(--fill-color);\n",
              "      border-top-color: var(--fill-color);\n",
              "      border-right-color: var(--fill-color);\n",
              "    }\n",
              "    40% {\n",
              "      border-color: transparent;\n",
              "      border-right-color: var(--fill-color);\n",
              "      border-top-color: var(--fill-color);\n",
              "    }\n",
              "    60% {\n",
              "      border-color: transparent;\n",
              "      border-right-color: var(--fill-color);\n",
              "    }\n",
              "    80% {\n",
              "      border-color: transparent;\n",
              "      border-right-color: var(--fill-color);\n",
              "      border-bottom-color: var(--fill-color);\n",
              "    }\n",
              "    90% {\n",
              "      border-color: transparent;\n",
              "      border-bottom-color: var(--fill-color);\n",
              "    }\n",
              "  }\n",
              "</style>\n",
              "\n",
              "  <script>\n",
              "    async function quickchart(key) {\n",
              "      const quickchartButtonEl =\n",
              "        document.querySelector('#' + key + ' button');\n",
              "      quickchartButtonEl.disabled = true;  // To prevent multiple clicks.\n",
              "      quickchartButtonEl.classList.add('colab-df-spinner');\n",
              "      try {\n",
              "        const charts = await google.colab.kernel.invokeFunction(\n",
              "            'suggestCharts', [key], {});\n",
              "      } catch (error) {\n",
              "        console.error('Error during call to suggestCharts:', error);\n",
              "      }\n",
              "      quickchartButtonEl.classList.remove('colab-df-spinner');\n",
              "      quickchartButtonEl.classList.add('colab-df-quickchart-complete');\n",
              "    }\n",
              "    (() => {\n",
              "      let quickchartButtonEl =\n",
              "        document.querySelector('#df-12457ff5-b89f-46e8-b6d0-bc41262f46ab button');\n",
              "      quickchartButtonEl.style.display =\n",
              "        google.colab.kernel.accessAllowed ? 'block' : 'none';\n",
              "    })();\n",
              "  </script>\n",
              "</div>\n",
              "\n",
              "    </div>\n",
              "  </div>\n"
            ],
            "application/vnd.google.colaboratory.intrinsic+json": {
              "type": "dataframe",
              "variable_name": "test_df",
              "summary": "{\n  \"name\": \"test_df\",\n  \"rows\": 89166,\n  \"fields\": [\n    {\n      \"column\": \"Title\",\n      \"properties\": {\n        \"dtype\": \"string\",\n        \"num_unique_values\": 64406,\n        \"samples\": [\n          \"Decente\",\n          \"tambi\\u00e9n Midwestern\",\n          \"Paz, tranquilidad, conexi\\u00f3n con M\\u00e9xico\"\n        ],\n        \"semantic_type\": \"\",\n        \"description\": \"\"\n      }\n    },\n    {\n      \"column\": \"Review\",\n      \"properties\": {\n        \"dtype\": \"string\",\n        \"num_unique_values\": 89140,\n        \"samples\": [\n          \"Nos reunimos con el propietario del primer d\\u00eda all\\u00ed durante el d\\u00eda ya que al echar un vistazo al men\\u00fa. Despu\\u00e9s nos fuimos a cenar y quedamos impresionados. La pi\\u00f1a margaritas con chipotle eran una delicia, la dulzura maravillosa de la pi\\u00f1a fresca ligeramente ahumado...por el chipotle. En nuestra segunda visita probamos los mango margueritas Cilantro pero aunque bueno, yo no hab\\u00eda so\\u00f1ado, ya tengo los peque\\u00f1os chipotle de pi\\u00f1a.\\nY la comida. Gran guacamole con una dulzura a\\u00f1adido por peque\\u00f1as trozos de pi\\u00f1a. triangulitos de sin salar. Lo justo.\\nLa primera vez que me com\\u00ed gambas en salsa adobo. maravillosos sabores. Mi esposa ten\\u00eda camarones de coco que fue un gran \\u00e9xito. La segunda vez que la lasa\\u00f1a mexicana, que de nuevo era un individuo que sirve de lasa\\u00f1a con sabores mexicanos. un gran \\u00e9xito y nos alegramos de volver.\\nmaravilloso reproductor de guitarra para entretener. El servicio era amable y r\\u00e1pido.\\nEst\\u00e1 en la tranquila zona del extremo norte de Hidalgo y quiz\\u00e1s eso explica por qu\\u00e9 parec\\u00eda menos concurrido. Esto no deber\\u00eda ser.M\\u00e1s\",\n          \"Muy bien ubicado en la avenida que atraviesa la ciudad, se encuentra muy cerca de la terminal de autobuses ADO, a pocas cuadras del centro de la ciudad al que se puede llegar a pie. El trato del personal es maravilloso. Cerca se localizan tiendas de autoservicio y restaurantes de distintos tipos de cocina.\",\n          \"En el marco del hermoso Lago Bacalar que dif\\u00edcilmente podr\\u00eda haber tenido un mal momento. Los estromatolitos fueron el algo un poco especial. Tuvimos una estancia encantadora y kayak antes de que tristemente nos llovi\\u00f3. En tiempo diferente que podr\\u00eda haber quedado mucho m\\u00e1s tiempo.\"\n        ],\n        \"semantic_type\": \"\",\n        \"description\": \"\"\n      }\n    }\n  ]\n}"
            }
          },
          "metadata": {},
          "execution_count": 4
        }
      ]
    },
    {
      "cell_type": "code",
      "source": [
        "predicciones = # EL VECTOR DE PREDICCIONES DEBE LLAMARSE ASÍ"
      ],
      "metadata": {
        "id": "D1PLt4rVRDTw"
      },
      "execution_count": null,
      "outputs": []
    },
    {
      "cell_type": "markdown",
      "source": [
        "## Pruebas"
      ],
      "metadata": {
        "id": "7rGKJNo45hA2"
      }
    },
    {
      "cell_type": "markdown",
      "source": [
        "Verifiquemos que tienen el tamaño adecuado"
      ],
      "metadata": {
        "id": "k6Fzoz6_5kyq"
      }
    },
    {
      "cell_type": "code",
      "source": [
        "assert predicciones.shape == (test_size,)"
      ],
      "metadata": {
        "id": "OfxKPAI45Vca"
      },
      "execution_count": null,
      "outputs": []
    },
    {
      "cell_type": "markdown",
      "source": [
        "Inspeccionemos algunas predicciones"
      ],
      "metadata": {
        "id": "URn2SFOO5kTY"
      }
    },
    {
      "cell_type": "code",
      "source": [
        "num_ejemplos = # Especificar cuántos ejemplos veremos\n",
        "\n",
        "random_idxs = np.random.choice(list(range(test_size)),\n",
        "                               size=num_ejemplos,\n",
        "                               replace=False)\n",
        "print(f\"Índices: {random_idxs}\\n\")\n",
        "for idx in random_idxs:\n",
        "    texto = test_df.iloc[idx]['Title'] + ' ' + test_df.iloc[idx]['Review']\n",
        "    print(f\"Texto: {texto}\")\n",
        "    print(f\"Predicción: {predicciones[idx]}\")"
      ],
      "metadata": {
        "colab": {
          "base_uri": "https://localhost:8080/"
        },
        "id": "Xap8o99T6KAP",
        "outputId": "0c106c5f-1590-4f94-96f8-adf1de35726a"
      },
      "execution_count": null,
      "outputs": [
        {
          "output_type": "stream",
          "name": "stdout",
          "text": [
            "Índices: [51291 66263 10170  2046  7800]\n",
            "\n",
            "Texto: Muy interesante Es de los pocos templos que aún conservan el piso de madera. La exhibición de ex-votos, algunos con casi un siglo de antiguedad, bien valen la pena.\n",
            "Predicción: 0\n",
            "Texto: Vacaciones Todo excelente fue muy bueno el servicio la atención estuvo muy bien lo recomiendo. Estoy esperando el día de vacaciones para volver a regresar al hotel creo que está de lujo todo el servicio  la comida excelente.\n",
            "Predicción: 2\n",
            "Texto: Buena comida, bello lugar, great servicio MALA musica! La verdad lo mejor de mi experiencia fue Franco!!! Su servicio me hizo la noche! La comida esta muy rica_x0085_ PERO la musica, como en casi todo Tulum_x0085_ bastante mala y poco acorde con un lugar tan bonito!Más\n",
            "Predicción: 0\n",
            "Texto: paseos por la playa ... Primero, odio a añadir comentarios positivos porque no me gustaría este lugar a ser popular. Pero, esta es una de mis playas favoritas en Tulum. Me encanta. Increíble playa a pie. Preciosa agua, excelente arena y bellos seres humanos.\n",
            "Predicción: 2\n",
            "Texto: Estancia agradable, personal agradable En general, la habitación estaba limpia, un poco anticuado, pero no está mal. Fue agradable tener la cocina pequeña, al lado de la piscina (aunque no la utilizamos), había una tienda justo al otro lado de la calle también. El hotel está en la carretera principal, pero estábamos en el interior del hotel y nunca escuchamos nada. Mucha gente me di cuenta que había estaban descontentos con las camas y sí son duras, pero no incómoda para mí o el marido. Nuestra queja serían las almohadas planas. En general, nuestra experiencia fue muy agradable.\n",
            "Predicción: 0\n"
          ]
        }
      ]
    },
    {
      "cell_type": "code",
      "source": [],
      "metadata": {
        "id": "0psmrhCH6Yi4"
      },
      "execution_count": null,
      "outputs": []
    }
  ]
}